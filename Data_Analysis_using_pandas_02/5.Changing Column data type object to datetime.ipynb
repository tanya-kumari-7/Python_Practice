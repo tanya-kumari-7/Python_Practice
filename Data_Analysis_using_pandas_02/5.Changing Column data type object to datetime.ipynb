{
 "cells": [
  {
   "cell_type": "markdown",
   "id": "b8bb1c0b-49cc-4afc-b4f9-47b8ce4b5c22",
   "metadata": {},
   "source": [
    "## IMPORTS"
   ]
  },
  {
   "cell_type": "code",
   "execution_count": 1,
   "id": "1c6a44fd-5b95-4e18-88b1-54fadd8e940f",
   "metadata": {},
   "outputs": [],
   "source": [
    "# IMPORTS\n",
    "import pandas as pd\n",
    "import plotly.express as px\n",
    "import datetime "
   ]
  },
  {
   "cell_type": "markdown",
   "id": "c8c6c2c9-091b-4c33-9de9-1e570a39c6b2",
   "metadata": {},
   "source": [
    "## Reading CSV"
   ]
  },
  {
   "cell_type": "code",
   "execution_count": 2,
   "id": "1af777d9-c014-4253-9e21-6e4673c1b0c5",
   "metadata": {},
   "outputs": [
    {
     "data": {
      "text/html": [
       "<div>\n",
       "<style scoped>\n",
       "    .dataframe tbody tr th:only-of-type {\n",
       "        vertical-align: middle;\n",
       "    }\n",
       "\n",
       "    .dataframe tbody tr th {\n",
       "        vertical-align: top;\n",
       "    }\n",
       "\n",
       "    .dataframe thead th {\n",
       "        text-align: right;\n",
       "    }\n",
       "</style>\n",
       "<table border=\"1\" class=\"dataframe\">\n",
       "  <thead>\n",
       "    <tr style=\"text-align: right;\">\n",
       "      <th></th>\n",
       "      <th>emitra_id</th>\n",
       "      <th>itr_id</th>\n",
       "      <th>sp_name</th>\n",
       "      <th>sso_id</th>\n",
       "      <th>sp_transaction_id</th>\n",
       "      <th>csc_id</th>\n",
       "      <th>merchant_id</th>\n",
       "      <th>merchant_name</th>\n",
       "      <th>merchant_email</th>\n",
       "      <th>merchant_phone</th>\n",
       "      <th>...</th>\n",
       "      <th>Ops_category2_status</th>\n",
       "      <th>Ops_category3_status</th>\n",
       "      <th>team_reamrks_count</th>\n",
       "      <th>User_type</th>\n",
       "      <th>Vle_type</th>\n",
       "      <th>Income_band</th>\n",
       "      <th>FY_Year</th>\n",
       "      <th>Days_E_verification</th>\n",
       "      <th>Days_E_verification_done</th>\n",
       "      <th>E_verification_bucket</th>\n",
       "    </tr>\n",
       "  </thead>\n",
       "  <tbody>\n",
       "    <tr>\n",
       "      <th>0</th>\n",
       "      <td>665705</td>\n",
       "      <td>2059165</td>\n",
       "      <td>sp_csc</td>\n",
       "      <td>929814</td>\n",
       "      <td>NaN</td>\n",
       "      <td>4.775241e+11</td>\n",
       "      <td>477524120010</td>\n",
       "      <td>477524120010</td>\n",
       "      <td>dk3090147@gmail.com</td>\n",
       "      <td>9.451269e+09</td>\n",
       "      <td>...</td>\n",
       "      <td>wrong password</td>\n",
       "      <td>NaN</td>\n",
       "      <td>6.0</td>\n",
       "      <td>Retro_User</td>\n",
       "      <td>New_Vle</td>\n",
       "      <td>G).No_Income</td>\n",
       "      <td>FY 2024-25</td>\n",
       "      <td>NaN</td>\n",
       "      <td>NaN</td>\n",
       "      <td>F)Pending for more than 30 days</td>\n",
       "    </tr>\n",
       "    <tr>\n",
       "      <th>1</th>\n",
       "      <td>646264</td>\n",
       "      <td>2030728</td>\n",
       "      <td>sp_csc</td>\n",
       "      <td>387502</td>\n",
       "      <td>NaN</td>\n",
       "      <td>2.444665e+11</td>\n",
       "      <td>244466540014</td>\n",
       "      <td>Ranjeet Kumar Kushwaha</td>\n",
       "      <td>kushwahamobile97@gmail.com</td>\n",
       "      <td>9.771090e+09</td>\n",
       "      <td>...</td>\n",
       "      <td>TO BE CLOSED</td>\n",
       "      <td>NaN</td>\n",
       "      <td>5.0</td>\n",
       "      <td>New_User</td>\n",
       "      <td>Retro_Vle</td>\n",
       "      <td>G).No_Income</td>\n",
       "      <td>FY 2024-25</td>\n",
       "      <td>NaN</td>\n",
       "      <td>NaN</td>\n",
       "      <td>F)Pending for more than 30 days</td>\n",
       "    </tr>\n",
       "    <tr>\n",
       "      <th>2</th>\n",
       "      <td>707061</td>\n",
       "      <td>2144797</td>\n",
       "      <td>sp_csc</td>\n",
       "      <td>138501</td>\n",
       "      <td>NaN</td>\n",
       "      <td>2.558573e+11</td>\n",
       "      <td>255857270010</td>\n",
       "      <td>Jahirul Islam</td>\n",
       "      <td>jahirulislam.1116@gmail.com</td>\n",
       "      <td>8.638447e+09</td>\n",
       "      <td>...</td>\n",
       "      <td>194LA Documents pending</td>\n",
       "      <td>p1</td>\n",
       "      <td>7.0</td>\n",
       "      <td>New_User</td>\n",
       "      <td>Retro_Vle</td>\n",
       "      <td>G).No_Income</td>\n",
       "      <td>FY 2024-25</td>\n",
       "      <td>NaN</td>\n",
       "      <td>NaN</td>\n",
       "      <td>F)Pending for more than 30 days</td>\n",
       "    </tr>\n",
       "    <tr>\n",
       "      <th>3</th>\n",
       "      <td>691888</td>\n",
       "      <td>2109081</td>\n",
       "      <td>sp_csc</td>\n",
       "      <td>225636</td>\n",
       "      <td>NaN</td>\n",
       "      <td>7.266127e+11</td>\n",
       "      <td>726612670019</td>\n",
       "      <td>Pravin Ramdas Gunjal</td>\n",
       "      <td>Filingo.Pune@gmail.com</td>\n",
       "      <td>7.710097e+09</td>\n",
       "      <td>...</td>\n",
       "      <td>Details Pending</td>\n",
       "      <td>NaN</td>\n",
       "      <td>7.0</td>\n",
       "      <td>New_User</td>\n",
       "      <td>New_Vle</td>\n",
       "      <td>G).No_Income</td>\n",
       "      <td>FY 2024-25</td>\n",
       "      <td>NaN</td>\n",
       "      <td>NaN</td>\n",
       "      <td>F)Pending for more than 30 days</td>\n",
       "    </tr>\n",
       "    <tr>\n",
       "      <th>4</th>\n",
       "      <td>730799</td>\n",
       "      <td>2197259</td>\n",
       "      <td>sp_csc</td>\n",
       "      <td>87234</td>\n",
       "      <td>NaN</td>\n",
       "      <td>5.334647e+11</td>\n",
       "      <td>533464730012</td>\n",
       "      <td>Nirmal Kumar Sharma</td>\n",
       "      <td>nirmalsharma769@gmail.com</td>\n",
       "      <td>9.431310e+09</td>\n",
       "      <td>...</td>\n",
       "      <td>hold</td>\n",
       "      <td>NaN</td>\n",
       "      <td>3.0</td>\n",
       "      <td>Retro_User</td>\n",
       "      <td>Retro_Vle</td>\n",
       "      <td>G).No_Income</td>\n",
       "      <td>FY 2024-25</td>\n",
       "      <td>NaN</td>\n",
       "      <td>NaN</td>\n",
       "      <td>F)Pending for more than 30 days</td>\n",
       "    </tr>\n",
       "  </tbody>\n",
       "</table>\n",
       "<p>5 rows × 105 columns</p>\n",
       "</div>"
      ],
      "text/plain": [
       "   emitra_id   itr_id sp_name  sso_id sp_transaction_id        csc_id  \\\n",
       "0     665705  2059165  sp_csc  929814               NaN  4.775241e+11   \n",
       "1     646264  2030728  sp_csc  387502               NaN  2.444665e+11   \n",
       "2     707061  2144797  sp_csc  138501               NaN  2.558573e+11   \n",
       "3     691888  2109081  sp_csc  225636               NaN  7.266127e+11   \n",
       "4     730799  2197259  sp_csc   87234               NaN  5.334647e+11   \n",
       "\n",
       "    merchant_id           merchant_name               merchant_email  \\\n",
       "0  477524120010            477524120010          dk3090147@gmail.com   \n",
       "1  244466540014  Ranjeet Kumar Kushwaha   kushwahamobile97@gmail.com   \n",
       "2  255857270010           Jahirul Islam  jahirulislam.1116@gmail.com   \n",
       "3  726612670019    Pravin Ramdas Gunjal       Filingo.Pune@gmail.com   \n",
       "4  533464730012     Nirmal Kumar Sharma    nirmalsharma769@gmail.com   \n",
       "\n",
       "   merchant_phone  ...     Ops_category2_status  Ops_category3_status  \\\n",
       "0    9.451269e+09  ...          wrong password                    NaN   \n",
       "1    9.771090e+09  ...             TO BE CLOSED                   NaN   \n",
       "2    8.638447e+09  ...  194LA Documents pending                    p1   \n",
       "3    7.710097e+09  ...        Details Pending                     NaN   \n",
       "4    9.431310e+09  ...                     hold                   NaN   \n",
       "\n",
       "  team_reamrks_count   User_type   Vle_type   Income_band     FY_Year  \\\n",
       "0                6.0  Retro_User    New_Vle  G).No_Income  FY 2024-25   \n",
       "1                5.0    New_User  Retro_Vle  G).No_Income  FY 2024-25   \n",
       "2                7.0    New_User  Retro_Vle  G).No_Income  FY 2024-25   \n",
       "3                7.0    New_User    New_Vle  G).No_Income  FY 2024-25   \n",
       "4                3.0  Retro_User  Retro_Vle  G).No_Income  FY 2024-25   \n",
       "\n",
       "  Days_E_verification Days_E_verification_done  \\\n",
       "0                 NaN                      NaN   \n",
       "1                 NaN                      NaN   \n",
       "2                 NaN                      NaN   \n",
       "3                 NaN                      NaN   \n",
       "4                 NaN                      NaN   \n",
       "\n",
       "             E_verification_bucket  \n",
       "0  F)Pending for more than 30 days  \n",
       "1  F)Pending for more than 30 days  \n",
       "2  F)Pending for more than 30 days  \n",
       "3  F)Pending for more than 30 days  \n",
       "4  F)Pending for more than 30 days  \n",
       "\n",
       "[5 rows x 105 columns]"
      ]
     },
     "execution_count": 2,
     "metadata": {},
     "output_type": "execute_result"
    }
   ],
   "source": [
    "offline_df = pd.read_csv(r\"C:\\Users\\user\\Downloads\\offline_paid.csv\")\n",
    "offline_df.head(5)"
   ]
  },
  {
   "cell_type": "markdown",
   "id": "1a3fbc75-aee3-4d7d-aaaf-d03629bc05f0",
   "metadata": {},
   "source": [
    "## EXPLORE DATA"
   ]
  },
  {
   "cell_type": "code",
   "execution_count": null,
   "id": "346febb7-8ff0-4ce4-bb66-5c1d6bc7f575",
   "metadata": {},
   "outputs": [],
   "source": [
    "pd.set_option('display.max_columns', None)"
   ]
  },
  {
   "cell_type": "code",
   "execution_count": 3,
   "id": "ba138f9c-d7dc-4a84-bdc7-ef563aca553c",
   "metadata": {},
   "outputs": [
    {
     "data": {
      "text/html": [
       "<div>\n",
       "<style scoped>\n",
       "    .dataframe tbody tr th:only-of-type {\n",
       "        vertical-align: middle;\n",
       "    }\n",
       "\n",
       "    .dataframe tbody tr th {\n",
       "        vertical-align: top;\n",
       "    }\n",
       "\n",
       "    .dataframe thead th {\n",
       "        text-align: right;\n",
       "    }\n",
       "</style>\n",
       "<table border=\"1\" class=\"dataframe\">\n",
       "  <thead>\n",
       "    <tr style=\"text-align: right;\">\n",
       "      <th></th>\n",
       "      <th>emitra_id</th>\n",
       "      <th>itr_id</th>\n",
       "      <th>sp_name</th>\n",
       "      <th>sso_id</th>\n",
       "      <th>sp_transaction_id</th>\n",
       "      <th>csc_id</th>\n",
       "      <th>merchant_id</th>\n",
       "      <th>merchant_name</th>\n",
       "      <th>merchant_email</th>\n",
       "      <th>merchant_phone</th>\n",
       "      <th>...</th>\n",
       "      <th>Ops_category2_status</th>\n",
       "      <th>Ops_category3_status</th>\n",
       "      <th>team_reamrks_count</th>\n",
       "      <th>User_type</th>\n",
       "      <th>Vle_type</th>\n",
       "      <th>Income_band</th>\n",
       "      <th>FY_Year</th>\n",
       "      <th>Days_E_verification</th>\n",
       "      <th>Days_E_verification_done</th>\n",
       "      <th>E_verification_bucket</th>\n",
       "    </tr>\n",
       "  </thead>\n",
       "  <tbody>\n",
       "    <tr>\n",
       "      <th>0</th>\n",
       "      <td>665705</td>\n",
       "      <td>2059165</td>\n",
       "      <td>sp_csc</td>\n",
       "      <td>929814</td>\n",
       "      <td>NaN</td>\n",
       "      <td>4.775241e+11</td>\n",
       "      <td>477524120010</td>\n",
       "      <td>477524120010</td>\n",
       "      <td>dk3090147@gmail.com</td>\n",
       "      <td>9.451269e+09</td>\n",
       "      <td>...</td>\n",
       "      <td>wrong password</td>\n",
       "      <td>NaN</td>\n",
       "      <td>6.0</td>\n",
       "      <td>Retro_User</td>\n",
       "      <td>New_Vle</td>\n",
       "      <td>G).No_Income</td>\n",
       "      <td>FY 2024-25</td>\n",
       "      <td>NaN</td>\n",
       "      <td>NaN</td>\n",
       "      <td>F)Pending for more than 30 days</td>\n",
       "    </tr>\n",
       "    <tr>\n",
       "      <th>1</th>\n",
       "      <td>646264</td>\n",
       "      <td>2030728</td>\n",
       "      <td>sp_csc</td>\n",
       "      <td>387502</td>\n",
       "      <td>NaN</td>\n",
       "      <td>2.444665e+11</td>\n",
       "      <td>244466540014</td>\n",
       "      <td>Ranjeet Kumar Kushwaha</td>\n",
       "      <td>kushwahamobile97@gmail.com</td>\n",
       "      <td>9.771090e+09</td>\n",
       "      <td>...</td>\n",
       "      <td>TO BE CLOSED</td>\n",
       "      <td>NaN</td>\n",
       "      <td>5.0</td>\n",
       "      <td>New_User</td>\n",
       "      <td>Retro_Vle</td>\n",
       "      <td>G).No_Income</td>\n",
       "      <td>FY 2024-25</td>\n",
       "      <td>NaN</td>\n",
       "      <td>NaN</td>\n",
       "      <td>F)Pending for more than 30 days</td>\n",
       "    </tr>\n",
       "    <tr>\n",
       "      <th>2</th>\n",
       "      <td>707061</td>\n",
       "      <td>2144797</td>\n",
       "      <td>sp_csc</td>\n",
       "      <td>138501</td>\n",
       "      <td>NaN</td>\n",
       "      <td>2.558573e+11</td>\n",
       "      <td>255857270010</td>\n",
       "      <td>Jahirul Islam</td>\n",
       "      <td>jahirulislam.1116@gmail.com</td>\n",
       "      <td>8.638447e+09</td>\n",
       "      <td>...</td>\n",
       "      <td>194LA Documents pending</td>\n",
       "      <td>p1</td>\n",
       "      <td>7.0</td>\n",
       "      <td>New_User</td>\n",
       "      <td>Retro_Vle</td>\n",
       "      <td>G).No_Income</td>\n",
       "      <td>FY 2024-25</td>\n",
       "      <td>NaN</td>\n",
       "      <td>NaN</td>\n",
       "      <td>F)Pending for more than 30 days</td>\n",
       "    </tr>\n",
       "    <tr>\n",
       "      <th>3</th>\n",
       "      <td>691888</td>\n",
       "      <td>2109081</td>\n",
       "      <td>sp_csc</td>\n",
       "      <td>225636</td>\n",
       "      <td>NaN</td>\n",
       "      <td>7.266127e+11</td>\n",
       "      <td>726612670019</td>\n",
       "      <td>Pravin Ramdas Gunjal</td>\n",
       "      <td>Filingo.Pune@gmail.com</td>\n",
       "      <td>7.710097e+09</td>\n",
       "      <td>...</td>\n",
       "      <td>Details Pending</td>\n",
       "      <td>NaN</td>\n",
       "      <td>7.0</td>\n",
       "      <td>New_User</td>\n",
       "      <td>New_Vle</td>\n",
       "      <td>G).No_Income</td>\n",
       "      <td>FY 2024-25</td>\n",
       "      <td>NaN</td>\n",
       "      <td>NaN</td>\n",
       "      <td>F)Pending for more than 30 days</td>\n",
       "    </tr>\n",
       "    <tr>\n",
       "      <th>4</th>\n",
       "      <td>730799</td>\n",
       "      <td>2197259</td>\n",
       "      <td>sp_csc</td>\n",
       "      <td>87234</td>\n",
       "      <td>NaN</td>\n",
       "      <td>5.334647e+11</td>\n",
       "      <td>533464730012</td>\n",
       "      <td>Nirmal Kumar Sharma</td>\n",
       "      <td>nirmalsharma769@gmail.com</td>\n",
       "      <td>9.431310e+09</td>\n",
       "      <td>...</td>\n",
       "      <td>hold</td>\n",
       "      <td>NaN</td>\n",
       "      <td>3.0</td>\n",
       "      <td>Retro_User</td>\n",
       "      <td>Retro_Vle</td>\n",
       "      <td>G).No_Income</td>\n",
       "      <td>FY 2024-25</td>\n",
       "      <td>NaN</td>\n",
       "      <td>NaN</td>\n",
       "      <td>F)Pending for more than 30 days</td>\n",
       "    </tr>\n",
       "  </tbody>\n",
       "</table>\n",
       "<p>5 rows × 105 columns</p>\n",
       "</div>"
      ],
      "text/plain": [
       "   emitra_id   itr_id sp_name  sso_id sp_transaction_id        csc_id  \\\n",
       "0     665705  2059165  sp_csc  929814               NaN  4.775241e+11   \n",
       "1     646264  2030728  sp_csc  387502               NaN  2.444665e+11   \n",
       "2     707061  2144797  sp_csc  138501               NaN  2.558573e+11   \n",
       "3     691888  2109081  sp_csc  225636               NaN  7.266127e+11   \n",
       "4     730799  2197259  sp_csc   87234               NaN  5.334647e+11   \n",
       "\n",
       "    merchant_id           merchant_name               merchant_email  \\\n",
       "0  477524120010            477524120010          dk3090147@gmail.com   \n",
       "1  244466540014  Ranjeet Kumar Kushwaha   kushwahamobile97@gmail.com   \n",
       "2  255857270010           Jahirul Islam  jahirulislam.1116@gmail.com   \n",
       "3  726612670019    Pravin Ramdas Gunjal       Filingo.Pune@gmail.com   \n",
       "4  533464730012     Nirmal Kumar Sharma    nirmalsharma769@gmail.com   \n",
       "\n",
       "   merchant_phone  ...     Ops_category2_status  Ops_category3_status  \\\n",
       "0    9.451269e+09  ...          wrong password                    NaN   \n",
       "1    9.771090e+09  ...             TO BE CLOSED                   NaN   \n",
       "2    8.638447e+09  ...  194LA Documents pending                    p1   \n",
       "3    7.710097e+09  ...        Details Pending                     NaN   \n",
       "4    9.431310e+09  ...                     hold                   NaN   \n",
       "\n",
       "  team_reamrks_count   User_type   Vle_type   Income_band     FY_Year  \\\n",
       "0                6.0  Retro_User    New_Vle  G).No_Income  FY 2024-25   \n",
       "1                5.0    New_User  Retro_Vle  G).No_Income  FY 2024-25   \n",
       "2                7.0    New_User  Retro_Vle  G).No_Income  FY 2024-25   \n",
       "3                7.0    New_User    New_Vle  G).No_Income  FY 2024-25   \n",
       "4                3.0  Retro_User  Retro_Vle  G).No_Income  FY 2024-25   \n",
       "\n",
       "  Days_E_verification Days_E_verification_done  \\\n",
       "0                 NaN                      NaN   \n",
       "1                 NaN                      NaN   \n",
       "2                 NaN                      NaN   \n",
       "3                 NaN                      NaN   \n",
       "4                 NaN                      NaN   \n",
       "\n",
       "             E_verification_bucket  \n",
       "0  F)Pending for more than 30 days  \n",
       "1  F)Pending for more than 30 days  \n",
       "2  F)Pending for more than 30 days  \n",
       "3  F)Pending for more than 30 days  \n",
       "4  F)Pending for more than 30 days  \n",
       "\n",
       "[5 rows x 105 columns]"
      ]
     },
     "execution_count": 3,
     "metadata": {},
     "output_type": "execute_result"
    }
   ],
   "source": [
    "offline_df.head(5)"
   ]
  },
  {
   "cell_type": "code",
   "execution_count": 4,
   "id": "9305c2c2-a8e4-4348-9bcc-55c497eee651",
   "metadata": {},
   "outputs": [
    {
     "data": {
      "text/html": [
       "<div>\n",
       "<style scoped>\n",
       "    .dataframe tbody tr th:only-of-type {\n",
       "        vertical-align: middle;\n",
       "    }\n",
       "\n",
       "    .dataframe tbody tr th {\n",
       "        vertical-align: top;\n",
       "    }\n",
       "\n",
       "    .dataframe thead th {\n",
       "        text-align: right;\n",
       "    }\n",
       "</style>\n",
       "<table border=\"1\" class=\"dataframe\">\n",
       "  <thead>\n",
       "    <tr style=\"text-align: right;\">\n",
       "      <th></th>\n",
       "      <th>emitra_id</th>\n",
       "      <th>itr_id</th>\n",
       "      <th>sp_name</th>\n",
       "      <th>sso_id</th>\n",
       "      <th>sp_transaction_id</th>\n",
       "      <th>csc_id</th>\n",
       "      <th>merchant_id</th>\n",
       "      <th>merchant_name</th>\n",
       "      <th>merchant_email</th>\n",
       "      <th>merchant_phone</th>\n",
       "      <th>...</th>\n",
       "      <th>Ops_category2_status</th>\n",
       "      <th>Ops_category3_status</th>\n",
       "      <th>team_reamrks_count</th>\n",
       "      <th>User_type</th>\n",
       "      <th>Vle_type</th>\n",
       "      <th>Income_band</th>\n",
       "      <th>FY_Year</th>\n",
       "      <th>Days_E_verification</th>\n",
       "      <th>Days_E_verification_done</th>\n",
       "      <th>E_verification_bucket</th>\n",
       "    </tr>\n",
       "  </thead>\n",
       "  <tbody>\n",
       "    <tr>\n",
       "      <th>7894</th>\n",
       "      <td>630653</td>\n",
       "      <td>2009758</td>\n",
       "      <td>sp_csc</td>\n",
       "      <td>97343</td>\n",
       "      <td>4114092522902276</td>\n",
       "      <td>3.717526e+11</td>\n",
       "      <td>371752560015</td>\n",
       "      <td>Kisan Dilip Deore</td>\n",
       "      <td>deorekd@gmail.com</td>\n",
       "      <td>9.689052e+09</td>\n",
       "      <td>...</td>\n",
       "      <td>ITR U 23 24</td>\n",
       "      <td>NaN</td>\n",
       "      <td>6.0</td>\n",
       "      <td>New_User</td>\n",
       "      <td>Retro_Vle</td>\n",
       "      <td>G).No_Income</td>\n",
       "      <td>FY 2024-25</td>\n",
       "      <td>NaN</td>\n",
       "      <td>NaN</td>\n",
       "      <td>F)Pending for more than 30 days</td>\n",
       "    </tr>\n",
       "    <tr>\n",
       "      <th>7895</th>\n",
       "      <td>825625</td>\n",
       "      <td>2354005</td>\n",
       "      <td>sp_csc</td>\n",
       "      <td>103069</td>\n",
       "      <td>5006181523708235</td>\n",
       "      <td>1.536522e+11</td>\n",
       "      <td>153652160017</td>\n",
       "      <td>Rahul Kumar Maurya</td>\n",
       "      <td>rkm05061994@gmail.com</td>\n",
       "      <td>8.795855e+09</td>\n",
       "      <td>...</td>\n",
       "      <td>Lottery case</td>\n",
       "      <td>p1</td>\n",
       "      <td>1.0</td>\n",
       "      <td>New_User</td>\n",
       "      <td>Retro_Vle</td>\n",
       "      <td>G).No_Income</td>\n",
       "      <td>FY 2024-25</td>\n",
       "      <td>0.0</td>\n",
       "      <td>36.0</td>\n",
       "      <td>A) e_verified between 0 to 2 weeks</td>\n",
       "    </tr>\n",
       "    <tr>\n",
       "      <th>7896</th>\n",
       "      <td>831661</td>\n",
       "      <td>2361797</td>\n",
       "      <td>sp_csc</td>\n",
       "      <td>792580</td>\n",
       "      <td>5026093426602997</td>\n",
       "      <td>6.442722e+11</td>\n",
       "      <td>644272160012</td>\n",
       "      <td>Arjun</td>\n",
       "      <td>arjunsbl98@gmail.com</td>\n",
       "      <td>8.791300e+09</td>\n",
       "      <td>...</td>\n",
       "      <td>Advance payment For filing</td>\n",
       "      <td>NaN</td>\n",
       "      <td>1.0</td>\n",
       "      <td>New_User</td>\n",
       "      <td>Retro_Vle</td>\n",
       "      <td>G).No_Income</td>\n",
       "      <td>FY 2024-25</td>\n",
       "      <td>NaN</td>\n",
       "      <td>NaN</td>\n",
       "      <td>E) Pending between 3 to 4 weeks</td>\n",
       "    </tr>\n",
       "    <tr>\n",
       "      <th>7897</th>\n",
       "      <td>758455</td>\n",
       "      <td>2248209</td>\n",
       "      <td>sp_csc</td>\n",
       "      <td>295495</td>\n",
       "      <td>4210211426071585</td>\n",
       "      <td>3.382154e+11</td>\n",
       "      <td>338215400017</td>\n",
       "      <td>Sudesh Nayak</td>\n",
       "      <td>sudeshamgcsc@gmail.com</td>\n",
       "      <td>9.424947e+09</td>\n",
       "      <td>...</td>\n",
       "      <td>Capital Gain Case</td>\n",
       "      <td>NaN</td>\n",
       "      <td>1.0</td>\n",
       "      <td>New_User</td>\n",
       "      <td>Retro_Vle</td>\n",
       "      <td>G).No_Income</td>\n",
       "      <td>FY 2024-25</td>\n",
       "      <td>1.0</td>\n",
       "      <td>198.0</td>\n",
       "      <td>A) e_verified between 0 to 2 weeks</td>\n",
       "    </tr>\n",
       "    <tr>\n",
       "      <th>7898</th>\n",
       "      <td>792448</td>\n",
       "      <td>2311320</td>\n",
       "      <td>sp_csc</td>\n",
       "      <td>800216</td>\n",
       "      <td>4245213223697652</td>\n",
       "      <td>6.577128e+11</td>\n",
       "      <td>657712760012</td>\n",
       "      <td>657712760012</td>\n",
       "      <td>suyashsachan774@gmail.com</td>\n",
       "      <td>6.261968e+09</td>\n",
       "      <td>...</td>\n",
       "      <td>Capital Gain Case</td>\n",
       "      <td>p0</td>\n",
       "      <td>5.0</td>\n",
       "      <td>New_User</td>\n",
       "      <td>New_Vle</td>\n",
       "      <td>G).No_Income</td>\n",
       "      <td>FY 2024-25</td>\n",
       "      <td>0.0</td>\n",
       "      <td>160.0</td>\n",
       "      <td>A) e_verified between 0 to 2 weeks</td>\n",
       "    </tr>\n",
       "  </tbody>\n",
       "</table>\n",
       "<p>5 rows × 105 columns</p>\n",
       "</div>"
      ],
      "text/plain": [
       "      emitra_id   itr_id sp_name  sso_id sp_transaction_id        csc_id  \\\n",
       "7894     630653  2009758  sp_csc   97343  4114092522902276  3.717526e+11   \n",
       "7895     825625  2354005  sp_csc  103069  5006181523708235  1.536522e+11   \n",
       "7896     831661  2361797  sp_csc  792580  5026093426602997  6.442722e+11   \n",
       "7897     758455  2248209  sp_csc  295495  4210211426071585  3.382154e+11   \n",
       "7898     792448  2311320  sp_csc  800216  4245213223697652  6.577128e+11   \n",
       "\n",
       "       merchant_id       merchant_name             merchant_email  \\\n",
       "7894  371752560015   Kisan Dilip Deore          deorekd@gmail.com   \n",
       "7895  153652160017  Rahul Kumar Maurya      rkm05061994@gmail.com   \n",
       "7896  644272160012               Arjun       arjunsbl98@gmail.com   \n",
       "7897  338215400017        Sudesh Nayak     sudeshamgcsc@gmail.com   \n",
       "7898  657712760012        657712760012  suyashsachan774@gmail.com   \n",
       "\n",
       "      merchant_phone  ...         Ops_category2_status  Ops_category3_status  \\\n",
       "7894    9.689052e+09  ...                  ITR U 23 24                   NaN   \n",
       "7895    8.795855e+09  ...                 Lottery case                    p1   \n",
       "7896    8.791300e+09  ...  Advance payment For filing                    NaN   \n",
       "7897    9.424947e+09  ...            Capital Gain Case                   NaN   \n",
       "7898    6.261968e+09  ...            Capital Gain Case                    p0   \n",
       "\n",
       "     team_reamrks_count  User_type   Vle_type   Income_band     FY_Year  \\\n",
       "7894                6.0   New_User  Retro_Vle  G).No_Income  FY 2024-25   \n",
       "7895                1.0   New_User  Retro_Vle  G).No_Income  FY 2024-25   \n",
       "7896                1.0   New_User  Retro_Vle  G).No_Income  FY 2024-25   \n",
       "7897                1.0   New_User  Retro_Vle  G).No_Income  FY 2024-25   \n",
       "7898                5.0   New_User    New_Vle  G).No_Income  FY 2024-25   \n",
       "\n",
       "     Days_E_verification Days_E_verification_done  \\\n",
       "7894                 NaN                      NaN   \n",
       "7895                 0.0                     36.0   \n",
       "7896                 NaN                      NaN   \n",
       "7897                 1.0                    198.0   \n",
       "7898                 0.0                    160.0   \n",
       "\n",
       "                   E_verification_bucket  \n",
       "7894     F)Pending for more than 30 days  \n",
       "7895  A) e_verified between 0 to 2 weeks  \n",
       "7896     E) Pending between 3 to 4 weeks  \n",
       "7897  A) e_verified between 0 to 2 weeks  \n",
       "7898  A) e_verified between 0 to 2 weeks  \n",
       "\n",
       "[5 rows x 105 columns]"
      ]
     },
     "execution_count": 4,
     "metadata": {},
     "output_type": "execute_result"
    }
   ],
   "source": [
    "offline_df.tail(5)"
   ]
  },
  {
   "cell_type": "code",
   "execution_count": 5,
   "id": "d7f79f80-ef89-40be-aeca-432af9ee9808",
   "metadata": {},
   "outputs": [
    {
     "data": {
      "text/plain": [
       "emitra_id                   7899\n",
       "itr_id                      7899\n",
       "sp_name                     7899\n",
       "sso_id                      7899\n",
       "sp_transaction_id           7815\n",
       "                            ... \n",
       "Income_band                 7899\n",
       "FY_Year                     7899\n",
       "Days_E_verification         2768\n",
       "Days_E_verification_done    2768\n",
       "E_verification_bucket       7898\n",
       "Length: 105, dtype: int64"
      ]
     },
     "execution_count": 5,
     "metadata": {},
     "output_type": "execute_result"
    }
   ],
   "source": [
    "offline_df.count()"
   ]
  },
  {
   "cell_type": "code",
   "execution_count": 6,
   "id": "110b02e5-9c73-4739-9e2f-b717ec2d8679",
   "metadata": {},
   "outputs": [
    {
     "data": {
      "text/plain": [
       "['emitra_id',\n",
       " 'itr_id',\n",
       " 'sp_name',\n",
       " 'sso_id',\n",
       " 'sp_transaction_id',\n",
       " 'csc_id',\n",
       " 'merchant_id',\n",
       " 'merchant_name',\n",
       " 'merchant_email',\n",
       " 'merchant_phone',\n",
       " 'pi_vle_email',\n",
       " 'pi_vle_phone',\n",
       " 'merchant_vle_email',\n",
       " 'merchant_vle_phone',\n",
       " 'Customer_name',\n",
       " 'Customer_mobile_no',\n",
       " 'customer_email',\n",
       " 'pan',\n",
       " 'Payment_datetime',\n",
       " 'Payment_date',\n",
       " 'user_created',\n",
       " 'cust_first_filing_date',\n",
       " 'cust_last_filing_date',\n",
       " 'Merchant_first_filing_date',\n",
       " 'merchant_last_filing_date',\n",
       " 'merchant_created_on',\n",
       " 'LSP_Deatils',\n",
       " 'merchant_created_month_year',\n",
       " 'transactionid',\n",
       " 'transamt',\n",
       " 'Gross_revenue',\n",
       " 'Net_Revenue',\n",
       " 'Net_Revenue_with_gst',\n",
       " 'assessment_year',\n",
       " 'form_name',\n",
       " 'itr_status',\n",
       " 'itr_status_remarks',\n",
       " 'filing_Status',\n",
       " 'ack_no',\n",
       " 'itr_e_verified_on',\n",
       " 'E_verification_status',\n",
       " 'filing_timestamp',\n",
       " 'deductor_name_base',\n",
       " 'deductor_name',\n",
       " 'delegate_status',\n",
       " 'Filing_type',\n",
       " 'Filing_mode',\n",
       " 'Plan_amt_range',\n",
       " 'plan',\n",
       " 'plan_mrp',\n",
       " 'plan_offer',\n",
       " 'plan_rate',\n",
       " 'plan_mrp_without_discount',\n",
       " 'plan_commission',\n",
       " 'Age_bucket',\n",
       " 'gender',\n",
       " 'Latest_Salaried_income',\n",
       " 'Latest_Business_income',\n",
       " 'Latest_os_income',\n",
       " 'Latest_hp_income',\n",
       " 'Latest_Business_income_band',\n",
       " 'Latest_Salaried_income_band',\n",
       " 'Latest_os_income_band',\n",
       " 'Latest_hp_income_band',\n",
       " 'Latest_capital_gain_band',\n",
       " 'Gross_total_income_band',\n",
       " 'income_by_form',\n",
       " 'total_income_band',\n",
       " 'tds_refund_band',\n",
       " 'Tax_payable_slabs',\n",
       " 'Tax_deducted',\n",
       " 'tax_deducted_band',\n",
       " 'Form_16_upload',\n",
       " 'Tax_liable',\n",
       " 'EightyC',\n",
       " 'Eightyd',\n",
       " 'Eightyccd1b',\n",
       " 'pincode',\n",
       " 'state',\n",
       " 'district',\n",
       " 'Tier',\n",
       " 'T_B_30_status',\n",
       " 'zone',\n",
       " 'itr_filed_in_campaign_period_2021',\n",
       " 'itr_filed_in_campaign_period_2022',\n",
       " 'itr_filed_in_campaign_period_2023',\n",
       " 'itr_filed_in_campaign_period_2024',\n",
       " 'contest_status',\n",
       " 'json_mode',\n",
       " '_26as_imported_on',\n",
       " '_26as_import_status',\n",
       " 'ais_status',\n",
       " 'details_added_by',\n",
       " 'GSTR_Status',\n",
       " 'Ops_category1_status',\n",
       " 'Ops_category2_status',\n",
       " 'Ops_category3_status',\n",
       " 'team_reamrks_count',\n",
       " 'User_type',\n",
       " 'Vle_type',\n",
       " 'Income_band',\n",
       " 'FY_Year',\n",
       " 'Days_E_verification',\n",
       " 'Days_E_verification_done',\n",
       " 'E_verification_bucket']"
      ]
     },
     "execution_count": 6,
     "metadata": {},
     "output_type": "execute_result"
    }
   ],
   "source": [
    "list(offline_df.columns)"
   ]
  },
  {
   "cell_type": "code",
   "execution_count": 7,
   "id": "aad4a099-2087-4fa6-8224-024fde74cf46",
   "metadata": {},
   "outputs": [],
   "source": [
    "selected_column = ['emitra_id',\n",
    " 'itr_id',\n",
    " 'sp_name',\n",
    " 'sso_id',\n",
    " 'Payment_datetime',\n",
    " 'Payment_date',\n",
    " 'Merchant_first_filing_date',\n",
    " 'merchant_last_filing_date',\n",
    " 'merchant_created_on',\n",
    " 'Gross_revenue',\n",
    " 'Net_Revenue',\n",
    " 'Net_Revenue_with_gst',\n",
    " 'assessment_year',\n",
    " 'form_name',\n",
    " 'itr_status',\n",
    " 'filing_Status',\n",
    " 'E_verification_status',\n",
    " 'Filing_type',\n",
    " 'Filing_mode',\n",
    " 'Age_bucket',\n",
    " 'gender',\n",
    " 'Latest_Business_income_band',\n",
    " 'Latest_Salaried_income_band',\n",
    " 'Latest_os_income_band',\n",
    " 'Latest_hp_income_band',\n",
    " 'Latest_capital_gain_band',\n",
    " 'Gross_total_income_band',\n",
    " 'total_income_band',\n",
    " 'tds_refund_band',\n",
    " 'Tax_payable_slabs',\n",
    " 'tax_deducted_band',\n",
    " 'state',\n",
    " 'Tier',\n",
    " 'zone',\n",
    " 'contest_status',\n",
    " 'Ops_category1_status',\n",
    " 'Ops_category2_status',\n",
    " 'Ops_category3_status',\n",
    " 'team_reamrks_count',\n",
    " 'User_type',\n",
    " 'Vle_type',\n",
    " 'Income_band',\n",
    " 'FY_Year']\n"
   ]
  },
  {
   "cell_type": "code",
   "execution_count": 8,
   "id": "4c932b27-46bb-464a-9922-261e208a1af6",
   "metadata": {},
   "outputs": [],
   "source": [
    "df = offline_df[selected_column]"
   ]
  },
  {
   "cell_type": "code",
   "execution_count": 9,
   "id": "70b3d801-d9de-4870-ab6a-c51d1fac4171",
   "metadata": {},
   "outputs": [
    {
     "data": {
      "text/html": [
       "<div>\n",
       "<style scoped>\n",
       "    .dataframe tbody tr th:only-of-type {\n",
       "        vertical-align: middle;\n",
       "    }\n",
       "\n",
       "    .dataframe tbody tr th {\n",
       "        vertical-align: top;\n",
       "    }\n",
       "\n",
       "    .dataframe thead th {\n",
       "        text-align: right;\n",
       "    }\n",
       "</style>\n",
       "<table border=\"1\" class=\"dataframe\">\n",
       "  <thead>\n",
       "    <tr style=\"text-align: right;\">\n",
       "      <th></th>\n",
       "      <th>emitra_id</th>\n",
       "      <th>itr_id</th>\n",
       "      <th>sp_name</th>\n",
       "      <th>sso_id</th>\n",
       "      <th>Payment_datetime</th>\n",
       "      <th>Payment_date</th>\n",
       "      <th>Merchant_first_filing_date</th>\n",
       "      <th>merchant_last_filing_date</th>\n",
       "      <th>merchant_created_on</th>\n",
       "      <th>Gross_revenue</th>\n",
       "      <th>...</th>\n",
       "      <th>zone</th>\n",
       "      <th>contest_status</th>\n",
       "      <th>Ops_category1_status</th>\n",
       "      <th>Ops_category2_status</th>\n",
       "      <th>Ops_category3_status</th>\n",
       "      <th>team_reamrks_count</th>\n",
       "      <th>User_type</th>\n",
       "      <th>Vle_type</th>\n",
       "      <th>Income_band</th>\n",
       "      <th>FY_Year</th>\n",
       "    </tr>\n",
       "  </thead>\n",
       "  <tbody>\n",
       "    <tr>\n",
       "      <th>0</th>\n",
       "      <td>665705</td>\n",
       "      <td>2059165</td>\n",
       "      <td>sp_csc</td>\n",
       "      <td>929814</td>\n",
       "      <td>2024-06-14T13:11:58</td>\n",
       "      <td>2024-06-14</td>\n",
       "      <td>2024-06-14</td>\n",
       "      <td>2024-06-14</td>\n",
       "      <td>2024-05-08</td>\n",
       "      <td>1500.000000</td>\n",
       "      <td>...</td>\n",
       "      <td>NORTH</td>\n",
       "      <td>NaN</td>\n",
       "      <td>NaN</td>\n",
       "      <td>wrong password</td>\n",
       "      <td>NaN</td>\n",
       "      <td>6.0</td>\n",
       "      <td>Retro_User</td>\n",
       "      <td>New_Vle</td>\n",
       "      <td>G).No_Income</td>\n",
       "      <td>FY 2024-25</td>\n",
       "    </tr>\n",
       "    <tr>\n",
       "      <th>1</th>\n",
       "      <td>646264</td>\n",
       "      <td>2030728</td>\n",
       "      <td>sp_csc</td>\n",
       "      <td>387502</td>\n",
       "      <td>2024-05-23T09:29:44</td>\n",
       "      <td>2024-05-23</td>\n",
       "      <td>2022-07-23</td>\n",
       "      <td>2024-07-20</td>\n",
       "      <td>2021-10-09</td>\n",
       "      <td>338.135593</td>\n",
       "      <td>...</td>\n",
       "      <td>EAST</td>\n",
       "      <td>contest_winner_only_2023</td>\n",
       "      <td>TO BE CLOSED</td>\n",
       "      <td>TO BE CLOSED</td>\n",
       "      <td>NaN</td>\n",
       "      <td>5.0</td>\n",
       "      <td>New_User</td>\n",
       "      <td>Retro_Vle</td>\n",
       "      <td>G).No_Income</td>\n",
       "      <td>FY 2024-25</td>\n",
       "    </tr>\n",
       "    <tr>\n",
       "      <th>2</th>\n",
       "      <td>707061</td>\n",
       "      <td>2144797</td>\n",
       "      <td>sp_csc</td>\n",
       "      <td>138501</td>\n",
       "      <td>2024-07-12T08:27:26</td>\n",
       "      <td>2024-07-12</td>\n",
       "      <td>2021-08-19</td>\n",
       "      <td>2024-07-23</td>\n",
       "      <td>2020-07-29</td>\n",
       "      <td>338.135593</td>\n",
       "      <td>...</td>\n",
       "      <td>EAST</td>\n",
       "      <td>contest_winner_only_2023</td>\n",
       "      <td>NaN</td>\n",
       "      <td>194LA Documents pending</td>\n",
       "      <td>p1</td>\n",
       "      <td>7.0</td>\n",
       "      <td>New_User</td>\n",
       "      <td>Retro_Vle</td>\n",
       "      <td>G).No_Income</td>\n",
       "      <td>FY 2024-25</td>\n",
       "    </tr>\n",
       "    <tr>\n",
       "      <th>3</th>\n",
       "      <td>691888</td>\n",
       "      <td>2109081</td>\n",
       "      <td>sp_csc</td>\n",
       "      <td>225636</td>\n",
       "      <td>2024-07-02T17:05:35</td>\n",
       "      <td>2024-07-02</td>\n",
       "      <td>2024-07-02</td>\n",
       "      <td>2024-07-02</td>\n",
       "      <td>2021-05-30</td>\n",
       "      <td>544.067797</td>\n",
       "      <td>...</td>\n",
       "      <td>WEST</td>\n",
       "      <td>NaN</td>\n",
       "      <td>NaN</td>\n",
       "      <td>Details Pending</td>\n",
       "      <td>NaN</td>\n",
       "      <td>7.0</td>\n",
       "      <td>New_User</td>\n",
       "      <td>New_Vle</td>\n",
       "      <td>G).No_Income</td>\n",
       "      <td>FY 2024-25</td>\n",
       "    </tr>\n",
       "    <tr>\n",
       "      <th>4</th>\n",
       "      <td>730799</td>\n",
       "      <td>2197259</td>\n",
       "      <td>sp_csc</td>\n",
       "      <td>87234</td>\n",
       "      <td>2024-07-22T14:11:41</td>\n",
       "      <td>2024-07-22</td>\n",
       "      <td>2019-08-07</td>\n",
       "      <td>2024-07-22</td>\n",
       "      <td>2019-07-29</td>\n",
       "      <td>544.067797</td>\n",
       "      <td>...</td>\n",
       "      <td>EAST</td>\n",
       "      <td>contest_winner_only_2023</td>\n",
       "      <td>NaN</td>\n",
       "      <td>hold</td>\n",
       "      <td>NaN</td>\n",
       "      <td>3.0</td>\n",
       "      <td>Retro_User</td>\n",
       "      <td>Retro_Vle</td>\n",
       "      <td>G).No_Income</td>\n",
       "      <td>FY 2024-25</td>\n",
       "    </tr>\n",
       "  </tbody>\n",
       "</table>\n",
       "<p>5 rows × 43 columns</p>\n",
       "</div>"
      ],
      "text/plain": [
       "   emitra_id   itr_id sp_name  sso_id     Payment_datetime Payment_date  \\\n",
       "0     665705  2059165  sp_csc  929814  2024-06-14T13:11:58   2024-06-14   \n",
       "1     646264  2030728  sp_csc  387502  2024-05-23T09:29:44   2024-05-23   \n",
       "2     707061  2144797  sp_csc  138501  2024-07-12T08:27:26   2024-07-12   \n",
       "3     691888  2109081  sp_csc  225636  2024-07-02T17:05:35   2024-07-02   \n",
       "4     730799  2197259  sp_csc   87234  2024-07-22T14:11:41   2024-07-22   \n",
       "\n",
       "  Merchant_first_filing_date merchant_last_filing_date merchant_created_on  \\\n",
       "0                 2024-06-14                2024-06-14          2024-05-08   \n",
       "1                 2022-07-23                2024-07-20          2021-10-09   \n",
       "2                 2021-08-19                2024-07-23          2020-07-29   \n",
       "3                 2024-07-02                2024-07-02          2021-05-30   \n",
       "4                 2019-08-07                2024-07-22          2019-07-29   \n",
       "\n",
       "   Gross_revenue  ...   zone            contest_status  Ops_category1_status  \\\n",
       "0    1500.000000  ...  NORTH                       NaN                   NaN   \n",
       "1     338.135593  ...   EAST  contest_winner_only_2023          TO BE CLOSED   \n",
       "2     338.135593  ...   EAST  contest_winner_only_2023                   NaN   \n",
       "3     544.067797  ...   WEST                       NaN                   NaN   \n",
       "4     544.067797  ...   EAST  contest_winner_only_2023                   NaN   \n",
       "\n",
       "      Ops_category2_status Ops_category3_status team_reamrks_count  \\\n",
       "0          wrong password                   NaN                6.0   \n",
       "1             TO BE CLOSED                  NaN                5.0   \n",
       "2  194LA Documents pending                   p1                7.0   \n",
       "3        Details Pending                    NaN                7.0   \n",
       "4                     hold                  NaN                3.0   \n",
       "\n",
       "    User_type   Vle_type   Income_band     FY_Year  \n",
       "0  Retro_User    New_Vle  G).No_Income  FY 2024-25  \n",
       "1    New_User  Retro_Vle  G).No_Income  FY 2024-25  \n",
       "2    New_User  Retro_Vle  G).No_Income  FY 2024-25  \n",
       "3    New_User    New_Vle  G).No_Income  FY 2024-25  \n",
       "4  Retro_User  Retro_Vle  G).No_Income  FY 2024-25  \n",
       "\n",
       "[5 rows x 43 columns]"
      ]
     },
     "execution_count": 9,
     "metadata": {},
     "output_type": "execute_result"
    }
   ],
   "source": [
    "df.head(5)"
   ]
  },
  {
   "cell_type": "code",
   "execution_count": 10,
   "id": "b0b354dd-aa0a-4e9b-a47e-a24facd53cb7",
   "metadata": {},
   "outputs": [
    {
     "data": {
      "text/plain": [
       "['emitra_id',\n",
       " 'itr_id',\n",
       " 'sp_name',\n",
       " 'sso_id',\n",
       " 'Payment_datetime',\n",
       " 'Payment_date',\n",
       " 'Merchant_first_filing_date',\n",
       " 'merchant_last_filing_date',\n",
       " 'merchant_created_on',\n",
       " 'Gross_revenue',\n",
       " 'Net_Revenue',\n",
       " 'Net_Revenue_with_gst',\n",
       " 'assessment_year',\n",
       " 'form_name',\n",
       " 'itr_status',\n",
       " 'filing_Status',\n",
       " 'E_verification_status',\n",
       " 'Filing_type',\n",
       " 'Filing_mode',\n",
       " 'Age_bucket',\n",
       " 'gender',\n",
       " 'Latest_Business_income_band',\n",
       " 'Latest_Salaried_income_band',\n",
       " 'Latest_os_income_band',\n",
       " 'Latest_hp_income_band',\n",
       " 'Latest_capital_gain_band',\n",
       " 'Gross_total_income_band',\n",
       " 'total_income_band',\n",
       " 'tds_refund_band',\n",
       " 'Tax_payable_slabs',\n",
       " 'tax_deducted_band',\n",
       " 'state',\n",
       " 'Tier',\n",
       " 'zone',\n",
       " 'contest_status',\n",
       " 'Ops_category1_status',\n",
       " 'Ops_category2_status',\n",
       " 'Ops_category3_status',\n",
       " 'team_reamrks_count',\n",
       " 'User_type',\n",
       " 'Vle_type',\n",
       " 'Income_band',\n",
       " 'FY_Year']"
      ]
     },
     "execution_count": 10,
     "metadata": {},
     "output_type": "execute_result"
    }
   ],
   "source": [
    "list(df.columns)"
   ]
  },
  {
   "cell_type": "markdown",
   "id": "b974d0a1-1dfe-4094-b060-c19668a5c1a0",
   "metadata": {},
   "source": [
    "\"\"\"\n",
    "WILL HANDLE NULL VALUES WHILE WORKING AS I DONT WANT TO REMOVE OR REPLACE NULL VALUES NOW\n",
    "\"\"\""
   ]
  },
  {
   "cell_type": "code",
   "execution_count": 11,
   "id": "d31a2f79-f1e2-4564-9c87-fbf9d0a93c44",
   "metadata": {},
   "outputs": [
    {
     "data": {
      "text/plain": [
       "7899"
      ]
     },
     "execution_count": 11,
     "metadata": {},
     "output_type": "execute_result"
    }
   ],
   "source": [
    "df[\"sp_name\"].count()"
   ]
  },
  {
   "cell_type": "code",
   "execution_count": 12,
   "id": "c84059ef-e5f7-4c37-90ea-b4cae735d0a3",
   "metadata": {},
   "outputs": [
    {
     "data": {
      "text/plain": [
       "array(['sp_csc', 'emitra', 'quicksun', 'vayamtech'], dtype=object)"
      ]
     },
     "execution_count": 12,
     "metadata": {},
     "output_type": "execute_result"
    }
   ],
   "source": [
    "df[\"sp_name\"].unique()"
   ]
  },
  {
   "cell_type": "code",
   "execution_count": 13,
   "id": "16d7004d-cfef-4604-9261-897fbfec2496",
   "metadata": {},
   "outputs": [
    {
     "data": {
      "text/html": [
       "<div>\n",
       "<style scoped>\n",
       "    .dataframe tbody tr th:only-of-type {\n",
       "        vertical-align: middle;\n",
       "    }\n",
       "\n",
       "    .dataframe tbody tr th {\n",
       "        vertical-align: top;\n",
       "    }\n",
       "\n",
       "    .dataframe thead th {\n",
       "        text-align: right;\n",
       "    }\n",
       "</style>\n",
       "<table border=\"1\" class=\"dataframe\">\n",
       "  <thead>\n",
       "    <tr style=\"text-align: right;\">\n",
       "      <th></th>\n",
       "      <th>emitra_id</th>\n",
       "      <th>itr_id</th>\n",
       "      <th>sso_id</th>\n",
       "      <th>Payment_datetime</th>\n",
       "      <th>Payment_date</th>\n",
       "      <th>Merchant_first_filing_date</th>\n",
       "      <th>merchant_last_filing_date</th>\n",
       "      <th>merchant_created_on</th>\n",
       "      <th>Gross_revenue</th>\n",
       "      <th>Net_Revenue</th>\n",
       "      <th>...</th>\n",
       "      <th>zone</th>\n",
       "      <th>contest_status</th>\n",
       "      <th>Ops_category1_status</th>\n",
       "      <th>Ops_category2_status</th>\n",
       "      <th>Ops_category3_status</th>\n",
       "      <th>team_reamrks_count</th>\n",
       "      <th>User_type</th>\n",
       "      <th>Vle_type</th>\n",
       "      <th>Income_band</th>\n",
       "      <th>FY_Year</th>\n",
       "    </tr>\n",
       "    <tr>\n",
       "      <th>sp_name</th>\n",
       "      <th></th>\n",
       "      <th></th>\n",
       "      <th></th>\n",
       "      <th></th>\n",
       "      <th></th>\n",
       "      <th></th>\n",
       "      <th></th>\n",
       "      <th></th>\n",
       "      <th></th>\n",
       "      <th></th>\n",
       "      <th></th>\n",
       "      <th></th>\n",
       "      <th></th>\n",
       "      <th></th>\n",
       "      <th></th>\n",
       "      <th></th>\n",
       "      <th></th>\n",
       "      <th></th>\n",
       "      <th></th>\n",
       "      <th></th>\n",
       "      <th></th>\n",
       "    </tr>\n",
       "  </thead>\n",
       "  <tbody>\n",
       "    <tr>\n",
       "      <th>emitra</th>\n",
       "      <td>1</td>\n",
       "      <td>1</td>\n",
       "      <td>1</td>\n",
       "      <td>1</td>\n",
       "      <td>1</td>\n",
       "      <td>1</td>\n",
       "      <td>1</td>\n",
       "      <td>1</td>\n",
       "      <td>0</td>\n",
       "      <td>0</td>\n",
       "      <td>...</td>\n",
       "      <td>1</td>\n",
       "      <td>0</td>\n",
       "      <td>0</td>\n",
       "      <td>1</td>\n",
       "      <td>0</td>\n",
       "      <td>1</td>\n",
       "      <td>1</td>\n",
       "      <td>1</td>\n",
       "      <td>1</td>\n",
       "      <td>1</td>\n",
       "    </tr>\n",
       "    <tr>\n",
       "      <th>quicksun</th>\n",
       "      <td>23</td>\n",
       "      <td>23</td>\n",
       "      <td>23</td>\n",
       "      <td>23</td>\n",
       "      <td>23</td>\n",
       "      <td>23</td>\n",
       "      <td>23</td>\n",
       "      <td>23</td>\n",
       "      <td>23</td>\n",
       "      <td>23</td>\n",
       "      <td>...</td>\n",
       "      <td>23</td>\n",
       "      <td>0</td>\n",
       "      <td>1</td>\n",
       "      <td>21</td>\n",
       "      <td>6</td>\n",
       "      <td>23</td>\n",
       "      <td>23</td>\n",
       "      <td>23</td>\n",
       "      <td>23</td>\n",
       "      <td>23</td>\n",
       "    </tr>\n",
       "    <tr>\n",
       "      <th>sp_csc</th>\n",
       "      <td>7870</td>\n",
       "      <td>7870</td>\n",
       "      <td>7870</td>\n",
       "      <td>7870</td>\n",
       "      <td>7870</td>\n",
       "      <td>7870</td>\n",
       "      <td>7870</td>\n",
       "      <td>7870</td>\n",
       "      <td>7870</td>\n",
       "      <td>7870</td>\n",
       "      <td>...</td>\n",
       "      <td>7783</td>\n",
       "      <td>2097</td>\n",
       "      <td>1022</td>\n",
       "      <td>7114</td>\n",
       "      <td>1340</td>\n",
       "      <td>7862</td>\n",
       "      <td>7870</td>\n",
       "      <td>7870</td>\n",
       "      <td>7870</td>\n",
       "      <td>7870</td>\n",
       "    </tr>\n",
       "    <tr>\n",
       "      <th>vayamtech</th>\n",
       "      <td>5</td>\n",
       "      <td>5</td>\n",
       "      <td>5</td>\n",
       "      <td>5</td>\n",
       "      <td>5</td>\n",
       "      <td>5</td>\n",
       "      <td>5</td>\n",
       "      <td>5</td>\n",
       "      <td>5</td>\n",
       "      <td>5</td>\n",
       "      <td>...</td>\n",
       "      <td>5</td>\n",
       "      <td>0</td>\n",
       "      <td>2</td>\n",
       "      <td>3</td>\n",
       "      <td>1</td>\n",
       "      <td>5</td>\n",
       "      <td>5</td>\n",
       "      <td>5</td>\n",
       "      <td>5</td>\n",
       "      <td>5</td>\n",
       "    </tr>\n",
       "  </tbody>\n",
       "</table>\n",
       "<p>4 rows × 42 columns</p>\n",
       "</div>"
      ],
      "text/plain": [
       "           emitra_id  itr_id  sso_id  Payment_datetime  Payment_date  \\\n",
       "sp_name                                                                \n",
       "emitra             1       1       1                 1             1   \n",
       "quicksun          23      23      23                23            23   \n",
       "sp_csc          7870    7870    7870              7870          7870   \n",
       "vayamtech          5       5       5                 5             5   \n",
       "\n",
       "           Merchant_first_filing_date  merchant_last_filing_date  \\\n",
       "sp_name                                                            \n",
       "emitra                              1                          1   \n",
       "quicksun                           23                         23   \n",
       "sp_csc                           7870                       7870   \n",
       "vayamtech                           5                          5   \n",
       "\n",
       "           merchant_created_on  Gross_revenue  Net_Revenue  ...  zone  \\\n",
       "sp_name                                                     ...         \n",
       "emitra                       1              0            0  ...     1   \n",
       "quicksun                    23             23           23  ...    23   \n",
       "sp_csc                    7870           7870         7870  ...  7783   \n",
       "vayamtech                    5              5            5  ...     5   \n",
       "\n",
       "           contest_status  Ops_category1_status  Ops_category2_status  \\\n",
       "sp_name                                                                 \n",
       "emitra                  0                     0                     1   \n",
       "quicksun                0                     1                    21   \n",
       "sp_csc               2097                  1022                  7114   \n",
       "vayamtech               0                     2                     3   \n",
       "\n",
       "           Ops_category3_status  team_reamrks_count  User_type  Vle_type  \\\n",
       "sp_name                                                                    \n",
       "emitra                        0                   1          1         1   \n",
       "quicksun                      6                  23         23        23   \n",
       "sp_csc                     1340                7862       7870      7870   \n",
       "vayamtech                     1                   5          5         5   \n",
       "\n",
       "           Income_band  FY_Year  \n",
       "sp_name                          \n",
       "emitra               1        1  \n",
       "quicksun            23       23  \n",
       "sp_csc            7870     7870  \n",
       "vayamtech            5        5  \n",
       "\n",
       "[4 rows x 42 columns]"
      ]
     },
     "execution_count": 13,
     "metadata": {},
     "output_type": "execute_result"
    }
   ],
   "source": [
    "df.groupby(\"sp_name\").count()"
   ]
  },
  {
   "cell_type": "code",
   "execution_count": 14,
   "id": "9ec619b2-b705-4cee-ab5c-935505e8eb98",
   "metadata": {},
   "outputs": [
    {
     "data": {
      "text/plain": [
       "sp_name\n",
       "emitra          1\n",
       "quicksun       23\n",
       "sp_csc       7870\n",
       "vayamtech       5\n",
       "Name: emitra_id, dtype: int64"
      ]
     },
     "execution_count": 14,
     "metadata": {},
     "output_type": "execute_result"
    }
   ],
   "source": [
    "df.groupby(\"sp_name\")['emitra_id'].count()"
   ]
  },
  {
   "cell_type": "code",
   "execution_count": 15,
   "id": "ddeec6d5-4ce1-4ffd-afe1-ee9f35e3a178",
   "metadata": {},
   "outputs": [
    {
     "data": {
      "text/html": [
       "<div>\n",
       "<style scoped>\n",
       "    .dataframe tbody tr th:only-of-type {\n",
       "        vertical-align: middle;\n",
       "    }\n",
       "\n",
       "    .dataframe tbody tr th {\n",
       "        vertical-align: top;\n",
       "    }\n",
       "\n",
       "    .dataframe thead th {\n",
       "        text-align: right;\n",
       "    }\n",
       "</style>\n",
       "<table border=\"1\" class=\"dataframe\">\n",
       "  <thead>\n",
       "    <tr style=\"text-align: right;\">\n",
       "      <th></th>\n",
       "      <th>sp_name</th>\n",
       "      <th>filing_count</th>\n",
       "    </tr>\n",
       "  </thead>\n",
       "  <tbody>\n",
       "    <tr>\n",
       "      <th>0</th>\n",
       "      <td>emitra</td>\n",
       "      <td>1</td>\n",
       "    </tr>\n",
       "    <tr>\n",
       "      <th>1</th>\n",
       "      <td>quicksun</td>\n",
       "      <td>23</td>\n",
       "    </tr>\n",
       "    <tr>\n",
       "      <th>2</th>\n",
       "      <td>sp_csc</td>\n",
       "      <td>7870</td>\n",
       "    </tr>\n",
       "    <tr>\n",
       "      <th>3</th>\n",
       "      <td>vayamtech</td>\n",
       "      <td>5</td>\n",
       "    </tr>\n",
       "  </tbody>\n",
       "</table>\n",
       "</div>"
      ],
      "text/plain": [
       "     sp_name  filing_count\n",
       "0     emitra             1\n",
       "1   quicksun            23\n",
       "2     sp_csc          7870\n",
       "3  vayamtech             5"
      ]
     },
     "execution_count": 15,
     "metadata": {},
     "output_type": "execute_result"
    }
   ],
   "source": [
    "partner_wise_filing_count = df.groupby(\"sp_name\")['emitra_id'].count().reset_index(name='filing_count')\n",
    "partner_wise_filing_count"
   ]
  },
  {
   "cell_type": "code",
   "execution_count": 22,
   "id": "91b3c3f0-b669-4cdc-aa93-63a100f0a280",
   "metadata": {},
   "outputs": [
    {
     "data": {
      "application/vnd.plotly.v1+json": {
       "config": {
        "plotlyServerURL": "https://plot.ly"
       },
       "data": [
        {
         "alignmentgroup": "True",
         "hovertemplate": "sp_name=%{x}<br>filing_count=%{y}<extra></extra>",
         "legendgroup": "",
         "marker": {
          "color": "#636efa",
          "line": {
           "color": "black",
           "width": 1.5
          },
          "pattern": {
           "shape": ""
          }
         },
         "name": "",
         "offsetgroup": "",
         "orientation": "v",
         "showlegend": false,
         "textposition": "outside",
         "texttemplate": "%{y}",
         "type": "bar",
         "x": [
          "emitra",
          "quicksun",
          "sp_csc",
          "vayamtech"
         ],
         "xaxis": "x",
         "y": [
          1,
          23,
          7870,
          5
         ],
         "yaxis": "y"
        }
       ],
       "layout": {
        "autosize": true,
        "barmode": "relative",
        "font": {
         "family": "Arial",
         "size": 12
        },
        "legend": {
         "tracegroupgap": 0
        },
        "template": {
         "data": {
          "bar": [
           {
            "error_x": {
             "color": "#2a3f5f"
            },
            "error_y": {
             "color": "#2a3f5f"
            },
            "marker": {
             "line": {
              "color": "#E5ECF6",
              "width": 0.5
             },
             "pattern": {
              "fillmode": "overlay",
              "size": 10,
              "solidity": 0.2
             }
            },
            "type": "bar"
           }
          ],
          "barpolar": [
           {
            "marker": {
             "line": {
              "color": "#E5ECF6",
              "width": 0.5
             },
             "pattern": {
              "fillmode": "overlay",
              "size": 10,
              "solidity": 0.2
             }
            },
            "type": "barpolar"
           }
          ],
          "carpet": [
           {
            "aaxis": {
             "endlinecolor": "#2a3f5f",
             "gridcolor": "white",
             "linecolor": "white",
             "minorgridcolor": "white",
             "startlinecolor": "#2a3f5f"
            },
            "baxis": {
             "endlinecolor": "#2a3f5f",
             "gridcolor": "white",
             "linecolor": "white",
             "minorgridcolor": "white",
             "startlinecolor": "#2a3f5f"
            },
            "type": "carpet"
           }
          ],
          "choropleth": [
           {
            "colorbar": {
             "outlinewidth": 0,
             "ticks": ""
            },
            "type": "choropleth"
           }
          ],
          "contour": [
           {
            "colorbar": {
             "outlinewidth": 0,
             "ticks": ""
            },
            "colorscale": [
             [
              0,
              "#0d0887"
             ],
             [
              0.1111111111111111,
              "#46039f"
             ],
             [
              0.2222222222222222,
              "#7201a8"
             ],
             [
              0.3333333333333333,
              "#9c179e"
             ],
             [
              0.4444444444444444,
              "#bd3786"
             ],
             [
              0.5555555555555556,
              "#d8576b"
             ],
             [
              0.6666666666666666,
              "#ed7953"
             ],
             [
              0.7777777777777778,
              "#fb9f3a"
             ],
             [
              0.8888888888888888,
              "#fdca26"
             ],
             [
              1,
              "#f0f921"
             ]
            ],
            "type": "contour"
           }
          ],
          "contourcarpet": [
           {
            "colorbar": {
             "outlinewidth": 0,
             "ticks": ""
            },
            "type": "contourcarpet"
           }
          ],
          "heatmap": [
           {
            "colorbar": {
             "outlinewidth": 0,
             "ticks": ""
            },
            "colorscale": [
             [
              0,
              "#0d0887"
             ],
             [
              0.1111111111111111,
              "#46039f"
             ],
             [
              0.2222222222222222,
              "#7201a8"
             ],
             [
              0.3333333333333333,
              "#9c179e"
             ],
             [
              0.4444444444444444,
              "#bd3786"
             ],
             [
              0.5555555555555556,
              "#d8576b"
             ],
             [
              0.6666666666666666,
              "#ed7953"
             ],
             [
              0.7777777777777778,
              "#fb9f3a"
             ],
             [
              0.8888888888888888,
              "#fdca26"
             ],
             [
              1,
              "#f0f921"
             ]
            ],
            "type": "heatmap"
           }
          ],
          "heatmapgl": [
           {
            "colorbar": {
             "outlinewidth": 0,
             "ticks": ""
            },
            "colorscale": [
             [
              0,
              "#0d0887"
             ],
             [
              0.1111111111111111,
              "#46039f"
             ],
             [
              0.2222222222222222,
              "#7201a8"
             ],
             [
              0.3333333333333333,
              "#9c179e"
             ],
             [
              0.4444444444444444,
              "#bd3786"
             ],
             [
              0.5555555555555556,
              "#d8576b"
             ],
             [
              0.6666666666666666,
              "#ed7953"
             ],
             [
              0.7777777777777778,
              "#fb9f3a"
             ],
             [
              0.8888888888888888,
              "#fdca26"
             ],
             [
              1,
              "#f0f921"
             ]
            ],
            "type": "heatmapgl"
           }
          ],
          "histogram": [
           {
            "marker": {
             "pattern": {
              "fillmode": "overlay",
              "size": 10,
              "solidity": 0.2
             }
            },
            "type": "histogram"
           }
          ],
          "histogram2d": [
           {
            "colorbar": {
             "outlinewidth": 0,
             "ticks": ""
            },
            "colorscale": [
             [
              0,
              "#0d0887"
             ],
             [
              0.1111111111111111,
              "#46039f"
             ],
             [
              0.2222222222222222,
              "#7201a8"
             ],
             [
              0.3333333333333333,
              "#9c179e"
             ],
             [
              0.4444444444444444,
              "#bd3786"
             ],
             [
              0.5555555555555556,
              "#d8576b"
             ],
             [
              0.6666666666666666,
              "#ed7953"
             ],
             [
              0.7777777777777778,
              "#fb9f3a"
             ],
             [
              0.8888888888888888,
              "#fdca26"
             ],
             [
              1,
              "#f0f921"
             ]
            ],
            "type": "histogram2d"
           }
          ],
          "histogram2dcontour": [
           {
            "colorbar": {
             "outlinewidth": 0,
             "ticks": ""
            },
            "colorscale": [
             [
              0,
              "#0d0887"
             ],
             [
              0.1111111111111111,
              "#46039f"
             ],
             [
              0.2222222222222222,
              "#7201a8"
             ],
             [
              0.3333333333333333,
              "#9c179e"
             ],
             [
              0.4444444444444444,
              "#bd3786"
             ],
             [
              0.5555555555555556,
              "#d8576b"
             ],
             [
              0.6666666666666666,
              "#ed7953"
             ],
             [
              0.7777777777777778,
              "#fb9f3a"
             ],
             [
              0.8888888888888888,
              "#fdca26"
             ],
             [
              1,
              "#f0f921"
             ]
            ],
            "type": "histogram2dcontour"
           }
          ],
          "mesh3d": [
           {
            "colorbar": {
             "outlinewidth": 0,
             "ticks": ""
            },
            "type": "mesh3d"
           }
          ],
          "parcoords": [
           {
            "line": {
             "colorbar": {
              "outlinewidth": 0,
              "ticks": ""
             }
            },
            "type": "parcoords"
           }
          ],
          "pie": [
           {
            "automargin": true,
            "type": "pie"
           }
          ],
          "scatter": [
           {
            "fillpattern": {
             "fillmode": "overlay",
             "size": 10,
             "solidity": 0.2
            },
            "type": "scatter"
           }
          ],
          "scatter3d": [
           {
            "line": {
             "colorbar": {
              "outlinewidth": 0,
              "ticks": ""
             }
            },
            "marker": {
             "colorbar": {
              "outlinewidth": 0,
              "ticks": ""
             }
            },
            "type": "scatter3d"
           }
          ],
          "scattercarpet": [
           {
            "marker": {
             "colorbar": {
              "outlinewidth": 0,
              "ticks": ""
             }
            },
            "type": "scattercarpet"
           }
          ],
          "scattergeo": [
           {
            "marker": {
             "colorbar": {
              "outlinewidth": 0,
              "ticks": ""
             }
            },
            "type": "scattergeo"
           }
          ],
          "scattergl": [
           {
            "marker": {
             "colorbar": {
              "outlinewidth": 0,
              "ticks": ""
             }
            },
            "type": "scattergl"
           }
          ],
          "scattermapbox": [
           {
            "marker": {
             "colorbar": {
              "outlinewidth": 0,
              "ticks": ""
             }
            },
            "type": "scattermapbox"
           }
          ],
          "scatterpolar": [
           {
            "marker": {
             "colorbar": {
              "outlinewidth": 0,
              "ticks": ""
             }
            },
            "type": "scatterpolar"
           }
          ],
          "scatterpolargl": [
           {
            "marker": {
             "colorbar": {
              "outlinewidth": 0,
              "ticks": ""
             }
            },
            "type": "scatterpolargl"
           }
          ],
          "scatterternary": [
           {
            "marker": {
             "colorbar": {
              "outlinewidth": 0,
              "ticks": ""
             }
            },
            "type": "scatterternary"
           }
          ],
          "surface": [
           {
            "colorbar": {
             "outlinewidth": 0,
             "ticks": ""
            },
            "colorscale": [
             [
              0,
              "#0d0887"
             ],
             [
              0.1111111111111111,
              "#46039f"
             ],
             [
              0.2222222222222222,
              "#7201a8"
             ],
             [
              0.3333333333333333,
              "#9c179e"
             ],
             [
              0.4444444444444444,
              "#bd3786"
             ],
             [
              0.5555555555555556,
              "#d8576b"
             ],
             [
              0.6666666666666666,
              "#ed7953"
             ],
             [
              0.7777777777777778,
              "#fb9f3a"
             ],
             [
              0.8888888888888888,
              "#fdca26"
             ],
             [
              1,
              "#f0f921"
             ]
            ],
            "type": "surface"
           }
          ],
          "table": [
           {
            "cells": {
             "fill": {
              "color": "#EBF0F8"
             },
             "line": {
              "color": "white"
             }
            },
            "header": {
             "fill": {
              "color": "#C8D4E3"
             },
             "line": {
              "color": "white"
             }
            },
            "type": "table"
           }
          ]
         },
         "layout": {
          "annotationdefaults": {
           "arrowcolor": "#2a3f5f",
           "arrowhead": 0,
           "arrowwidth": 1
          },
          "autotypenumbers": "strict",
          "coloraxis": {
           "colorbar": {
            "outlinewidth": 0,
            "ticks": ""
           }
          },
          "colorscale": {
           "diverging": [
            [
             0,
             "#8e0152"
            ],
            [
             0.1,
             "#c51b7d"
            ],
            [
             0.2,
             "#de77ae"
            ],
            [
             0.3,
             "#f1b6da"
            ],
            [
             0.4,
             "#fde0ef"
            ],
            [
             0.5,
             "#f7f7f7"
            ],
            [
             0.6,
             "#e6f5d0"
            ],
            [
             0.7,
             "#b8e186"
            ],
            [
             0.8,
             "#7fbc41"
            ],
            [
             0.9,
             "#4d9221"
            ],
            [
             1,
             "#276419"
            ]
           ],
           "sequential": [
            [
             0,
             "#0d0887"
            ],
            [
             0.1111111111111111,
             "#46039f"
            ],
            [
             0.2222222222222222,
             "#7201a8"
            ],
            [
             0.3333333333333333,
             "#9c179e"
            ],
            [
             0.4444444444444444,
             "#bd3786"
            ],
            [
             0.5555555555555556,
             "#d8576b"
            ],
            [
             0.6666666666666666,
             "#ed7953"
            ],
            [
             0.7777777777777778,
             "#fb9f3a"
            ],
            [
             0.8888888888888888,
             "#fdca26"
            ],
            [
             1,
             "#f0f921"
            ]
           ],
           "sequentialminus": [
            [
             0,
             "#0d0887"
            ],
            [
             0.1111111111111111,
             "#46039f"
            ],
            [
             0.2222222222222222,
             "#7201a8"
            ],
            [
             0.3333333333333333,
             "#9c179e"
            ],
            [
             0.4444444444444444,
             "#bd3786"
            ],
            [
             0.5555555555555556,
             "#d8576b"
            ],
            [
             0.6666666666666666,
             "#ed7953"
            ],
            [
             0.7777777777777778,
             "#fb9f3a"
            ],
            [
             0.8888888888888888,
             "#fdca26"
            ],
            [
             1,
             "#f0f921"
            ]
           ]
          },
          "colorway": [
           "#636efa",
           "#EF553B",
           "#00cc96",
           "#ab63fa",
           "#FFA15A",
           "#19d3f3",
           "#FF6692",
           "#B6E880",
           "#FF97FF",
           "#FECB52"
          ],
          "font": {
           "color": "#2a3f5f"
          },
          "geo": {
           "bgcolor": "white",
           "lakecolor": "white",
           "landcolor": "#E5ECF6",
           "showlakes": true,
           "showland": true,
           "subunitcolor": "white"
          },
          "hoverlabel": {
           "align": "left"
          },
          "hovermode": "closest",
          "mapbox": {
           "style": "light"
          },
          "paper_bgcolor": "white",
          "plot_bgcolor": "#E5ECF6",
          "polar": {
           "angularaxis": {
            "gridcolor": "white",
            "linecolor": "white",
            "ticks": ""
           },
           "bgcolor": "#E5ECF6",
           "radialaxis": {
            "gridcolor": "white",
            "linecolor": "white",
            "ticks": ""
           }
          },
          "scene": {
           "xaxis": {
            "backgroundcolor": "#E5ECF6",
            "gridcolor": "white",
            "gridwidth": 2,
            "linecolor": "white",
            "showbackground": true,
            "ticks": "",
            "zerolinecolor": "white"
           },
           "yaxis": {
            "backgroundcolor": "#E5ECF6",
            "gridcolor": "white",
            "gridwidth": 2,
            "linecolor": "white",
            "showbackground": true,
            "ticks": "",
            "zerolinecolor": "white"
           },
           "zaxis": {
            "backgroundcolor": "#E5ECF6",
            "gridcolor": "white",
            "gridwidth": 2,
            "linecolor": "white",
            "showbackground": true,
            "ticks": "",
            "zerolinecolor": "white"
           }
          },
          "shapedefaults": {
           "line": {
            "color": "#2a3f5f"
           }
          },
          "ternary": {
           "aaxis": {
            "gridcolor": "white",
            "linecolor": "white",
            "ticks": ""
           },
           "baxis": {
            "gridcolor": "white",
            "linecolor": "white",
            "ticks": ""
           },
           "bgcolor": "#E5ECF6",
           "caxis": {
            "gridcolor": "white",
            "linecolor": "white",
            "ticks": ""
           }
          },
          "title": {
           "x": 0.05
          },
          "xaxis": {
           "automargin": true,
           "gridcolor": "white",
           "linecolor": "white",
           "ticks": "",
           "title": {
            "standoff": 15
           },
           "zerolinecolor": "white",
           "zerolinewidth": 2
          },
          "yaxis": {
           "automargin": true,
           "gridcolor": "white",
           "linecolor": "white",
           "ticks": "",
           "title": {
            "standoff": 15
           },
           "zerolinecolor": "white",
           "zerolinewidth": 2
          }
         }
        },
        "title": {
         "font": {
          "family": "Arial",
          "size": 18
         },
         "text": "Partner wise filing",
         "x": 0.5,
         "xanchor": "center"
        },
        "xaxis": {
         "anchor": "y",
         "autorange": false,
         "domain": [
          0,
          1
         ],
         "range": [
          -0.5,
          3.5
         ],
         "title": {
          "text": "Partner"
         },
         "type": "category"
        },
        "yaxis": {
         "anchor": "x",
         "autorange": false,
         "domain": [
          0,
          1
         ],
         "range": [
          0,
          10000
         ],
         "title": {
          "text": "Filings"
         },
         "type": "linear"
        }
       }
      },
      "image/png": "[encoded data removed]",
      "text/html": [
       "<div>                            <div id=\"44a4d05d-3f4f-436a-8a32-212e3da7fe32\" class=\"plotly-graph-div\" style=\"height:525px; width:100%;\"></div>            <script type=\"text/javascript\">                require([\"plotly\"], function(Plotly) {                    window.PLOTLYENV=window.PLOTLYENV || {};                                    if (document.getElementById(\"44a4d05d-3f4f-436a-8a32-212e3da7fe32\")) {                    Plotly.newPlot(                        \"44a4d05d-3f4f-436a-8a32-212e3da7fe32\",                        [{\"alignmentgroup\":\"True\",\"hovertemplate\":\"sp_name=%{x}<br>filing_count=%{y}<extra></extra>\",\"legendgroup\":\"\",\"marker\":{\"color\":\"#636efa\",\"pattern\":{\"shape\":\"\"},\"line\":{\"color\":\"black\",\"width\":1.5}},\"name\":\"\",\"offsetgroup\":\"\",\"orientation\":\"v\",\"showlegend\":false,\"textposition\":\"outside\",\"texttemplate\":\"%{y}\",\"x\":[\"emitra\",\"quicksun\",\"sp_csc\",\"vayamtech\"],\"xaxis\":\"x\",\"y\":[1,23,7870,5],\"yaxis\":\"y\",\"type\":\"bar\"}],                        {\"template\":{\"data\":{\"histogram2dcontour\":[{\"type\":\"histogram2dcontour\",\"colorbar\":{\"outlinewidth\":0,\"ticks\":\"\"},\"colorscale\":[[0.0,\"#0d0887\"],[0.1111111111111111,\"#46039f\"],[0.2222222222222222,\"#7201a8\"],[0.3333333333333333,\"#9c179e\"],[0.4444444444444444,\"#bd3786\"],[0.5555555555555556,\"#d8576b\"],[0.6666666666666666,\"#ed7953\"],[0.7777777777777778,\"#fb9f3a\"],[0.8888888888888888,\"#fdca26\"],[1.0,\"#f0f921\"]]}],\"choropleth\":[{\"type\":\"choropleth\",\"colorbar\":{\"outlinewidth\":0,\"ticks\":\"\"}}],\"histogram2d\":[{\"type\":\"histogram2d\",\"colorbar\":{\"outlinewidth\":0,\"ticks\":\"\"},\"colorscale\":[[0.0,\"#0d0887\"],[0.1111111111111111,\"#46039f\"],[0.2222222222222222,\"#7201a8\"],[0.3333333333333333,\"#9c179e\"],[0.4444444444444444,\"#bd3786\"],[0.5555555555555556,\"#d8576b\"],[0.6666666666666666,\"#ed7953\"],[0.7777777777777778,\"#fb9f3a\"],[0.8888888888888888,\"#fdca26\"],[1.0,\"#f0f921\"]]}],\"heatmap\":[{\"type\":\"heatmap\",\"colorbar\":{\"outlinewidth\":0,\"ticks\":\"\"},\"colorscale\":[[0.0,\"#0d0887\"],[0.1111111111111111,\"#46039f\"],[0.2222222222222222,\"#7201a8\"],[0.3333333333333333,\"#9c179e\"],[0.4444444444444444,\"#bd3786\"],[0.5555555555555556,\"#d8576b\"],[0.6666666666666666,\"#ed7953\"],[0.7777777777777778,\"#fb9f3a\"],[0.8888888888888888,\"#fdca26\"],[1.0,\"#f0f921\"]]}],\"heatmapgl\":[{\"type\":\"heatmapgl\",\"colorbar\":{\"outlinewidth\":0,\"ticks\":\"\"},\"colorscale\":[[0.0,\"#0d0887\"],[0.1111111111111111,\"#46039f\"],[0.2222222222222222,\"#7201a8\"],[0.3333333333333333,\"#9c179e\"],[0.4444444444444444,\"#bd3786\"],[0.5555555555555556,\"#d8576b\"],[0.6666666666666666,\"#ed7953\"],[0.7777777777777778,\"#fb9f3a\"],[0.8888888888888888,\"#fdca26\"],[1.0,\"#f0f921\"]]}],\"contourcarpet\":[{\"type\":\"contourcarpet\",\"colorbar\":{\"outlinewidth\":0,\"ticks\":\"\"}}],\"contour\":[{\"type\":\"contour\",\"colorbar\":{\"outlinewidth\":0,\"ticks\":\"\"},\"colorscale\":[[0.0,\"#0d0887\"],[0.1111111111111111,\"#46039f\"],[0.2222222222222222,\"#7201a8\"],[0.3333333333333333,\"#9c179e\"],[0.4444444444444444,\"#bd3786\"],[0.5555555555555556,\"#d8576b\"],[0.6666666666666666,\"#ed7953\"],[0.7777777777777778,\"#fb9f3a\"],[0.8888888888888888,\"#fdca26\"],[1.0,\"#f0f921\"]]}],\"surface\":[{\"type\":\"surface\",\"colorbar\":{\"outlinewidth\":0,\"ticks\":\"\"},\"colorscale\":[[0.0,\"#0d0887\"],[0.1111111111111111,\"#46039f\"],[0.2222222222222222,\"#7201a8\"],[0.3333333333333333,\"#9c179e\"],[0.4444444444444444,\"#bd3786\"],[0.5555555555555556,\"#d8576b\"],[0.6666666666666666,\"#ed7953\"],[0.7777777777777778,\"#fb9f3a\"],[0.8888888888888888,\"#fdca26\"],[1.0,\"#f0f921\"]]}],\"mesh3d\":[{\"type\":\"mesh3d\",\"colorbar\":{\"outlinewidth\":0,\"ticks\":\"\"}}],\"scatter\":[{\"fillpattern\":{\"fillmode\":\"overlay\",\"size\":10,\"solidity\":0.2},\"type\":\"scatter\"}],\"parcoords\":[{\"type\":\"parcoords\",\"line\":{\"colorbar\":{\"outlinewidth\":0,\"ticks\":\"\"}}}],\"scatterpolargl\":[{\"type\":\"scatterpolargl\",\"marker\":{\"colorbar\":{\"outlinewidth\":0,\"ticks\":\"\"}}}],\"bar\":[{\"error_x\":{\"color\":\"#2a3f5f\"},\"error_y\":{\"color\":\"#2a3f5f\"},\"marker\":{\"line\":{\"color\":\"#E5ECF6\",\"width\":0.5},\"pattern\":{\"fillmode\":\"overlay\",\"size\":10,\"solidity\":0.2}},\"type\":\"bar\"}],\"scattergeo\":[{\"type\":\"scattergeo\",\"marker\":{\"colorbar\":{\"outlinewidth\":0,\"ticks\":\"\"}}}],\"scatterpolar\":[{\"type\":\"scatterpolar\",\"marker\":{\"colorbar\":{\"outlinewidth\":0,\"ticks\":\"\"}}}],\"histogram\":[{\"marker\":{\"pattern\":{\"fillmode\":\"overlay\",\"size\":10,\"solidity\":0.2}},\"type\":\"histogram\"}],\"scattergl\":[{\"type\":\"scattergl\",\"marker\":{\"colorbar\":{\"outlinewidth\":0,\"ticks\":\"\"}}}],\"scatter3d\":[{\"type\":\"scatter3d\",\"line\":{\"colorbar\":{\"outlinewidth\":0,\"ticks\":\"\"}},\"marker\":{\"colorbar\":{\"outlinewidth\":0,\"ticks\":\"\"}}}],\"scattermapbox\":[{\"type\":\"scattermapbox\",\"marker\":{\"colorbar\":{\"outlinewidth\":0,\"ticks\":\"\"}}}],\"scatterternary\":[{\"type\":\"scatterternary\",\"marker\":{\"colorbar\":{\"outlinewidth\":0,\"ticks\":\"\"}}}],\"scattercarpet\":[{\"type\":\"scattercarpet\",\"marker\":{\"colorbar\":{\"outlinewidth\":0,\"ticks\":\"\"}}}],\"carpet\":[{\"aaxis\":{\"endlinecolor\":\"#2a3f5f\",\"gridcolor\":\"white\",\"linecolor\":\"white\",\"minorgridcolor\":\"white\",\"startlinecolor\":\"#2a3f5f\"},\"baxis\":{\"endlinecolor\":\"#2a3f5f\",\"gridcolor\":\"white\",\"linecolor\":\"white\",\"minorgridcolor\":\"white\",\"startlinecolor\":\"#2a3f5f\"},\"type\":\"carpet\"}],\"table\":[{\"cells\":{\"fill\":{\"color\":\"#EBF0F8\"},\"line\":{\"color\":\"white\"}},\"header\":{\"fill\":{\"color\":\"#C8D4E3\"},\"line\":{\"color\":\"white\"}},\"type\":\"table\"}],\"barpolar\":[{\"marker\":{\"line\":{\"color\":\"#E5ECF6\",\"width\":0.5},\"pattern\":{\"fillmode\":\"overlay\",\"size\":10,\"solidity\":0.2}},\"type\":\"barpolar\"}],\"pie\":[{\"automargin\":true,\"type\":\"pie\"}]},\"layout\":{\"autotypenumbers\":\"strict\",\"colorway\":[\"#636efa\",\"#EF553B\",\"#00cc96\",\"#ab63fa\",\"#FFA15A\",\"#19d3f3\",\"#FF6692\",\"#B6E880\",\"#FF97FF\",\"#FECB52\"],\"font\":{\"color\":\"#2a3f5f\"},\"hovermode\":\"closest\",\"hoverlabel\":{\"align\":\"left\"},\"paper_bgcolor\":\"white\",\"plot_bgcolor\":\"#E5ECF6\",\"polar\":{\"bgcolor\":\"#E5ECF6\",\"angularaxis\":{\"gridcolor\":\"white\",\"linecolor\":\"white\",\"ticks\":\"\"},\"radialaxis\":{\"gridcolor\":\"white\",\"linecolor\":\"white\",\"ticks\":\"\"}},\"ternary\":{\"bgcolor\":\"#E5ECF6\",\"aaxis\":{\"gridcolor\":\"white\",\"linecolor\":\"white\",\"ticks\":\"\"},\"baxis\":{\"gridcolor\":\"white\",\"linecolor\":\"white\",\"ticks\":\"\"},\"caxis\":{\"gridcolor\":\"white\",\"linecolor\":\"white\",\"ticks\":\"\"}},\"coloraxis\":{\"colorbar\":{\"outlinewidth\":0,\"ticks\":\"\"}},\"colorscale\":{\"sequential\":[[0.0,\"#0d0887\"],[0.1111111111111111,\"#46039f\"],[0.2222222222222222,\"#7201a8\"],[0.3333333333333333,\"#9c179e\"],[0.4444444444444444,\"#bd3786\"],[0.5555555555555556,\"#d8576b\"],[0.6666666666666666,\"#ed7953\"],[0.7777777777777778,\"#fb9f3a\"],[0.8888888888888888,\"#fdca26\"],[1.0,\"#f0f921\"]],\"sequentialminus\":[[0.0,\"#0d0887\"],[0.1111111111111111,\"#46039f\"],[0.2222222222222222,\"#7201a8\"],[0.3333333333333333,\"#9c179e\"],[0.4444444444444444,\"#bd3786\"],[0.5555555555555556,\"#d8576b\"],[0.6666666666666666,\"#ed7953\"],[0.7777777777777778,\"#fb9f3a\"],[0.8888888888888888,\"#fdca26\"],[1.0,\"#f0f921\"]],\"diverging\":[[0,\"#8e0152\"],[0.1,\"#c51b7d\"],[0.2,\"#de77ae\"],[0.3,\"#f1b6da\"],[0.4,\"#fde0ef\"],[0.5,\"#f7f7f7\"],[0.6,\"#e6f5d0\"],[0.7,\"#b8e186\"],[0.8,\"#7fbc41\"],[0.9,\"#4d9221\"],[1,\"#276419\"]]},\"xaxis\":{\"gridcolor\":\"white\",\"linecolor\":\"white\",\"ticks\":\"\",\"title\":{\"standoff\":15},\"zerolinecolor\":\"white\",\"automargin\":true,\"zerolinewidth\":2},\"yaxis\":{\"gridcolor\":\"white\",\"linecolor\":\"white\",\"ticks\":\"\",\"title\":{\"standoff\":15},\"zerolinecolor\":\"white\",\"automargin\":true,\"zerolinewidth\":2},\"scene\":{\"xaxis\":{\"backgroundcolor\":\"#E5ECF6\",\"gridcolor\":\"white\",\"linecolor\":\"white\",\"showbackground\":true,\"ticks\":\"\",\"zerolinecolor\":\"white\",\"gridwidth\":2},\"yaxis\":{\"backgroundcolor\":\"#E5ECF6\",\"gridcolor\":\"white\",\"linecolor\":\"white\",\"showbackground\":true,\"ticks\":\"\",\"zerolinecolor\":\"white\",\"gridwidth\":2},\"zaxis\":{\"backgroundcolor\":\"#E5ECF6\",\"gridcolor\":\"white\",\"linecolor\":\"white\",\"showbackground\":true,\"ticks\":\"\",\"zerolinecolor\":\"white\",\"gridwidth\":2}},\"shapedefaults\":{\"line\":{\"color\":\"#2a3f5f\"}},\"annotationdefaults\":{\"arrowcolor\":\"#2a3f5f\",\"arrowhead\":0,\"arrowwidth\":1},\"geo\":{\"bgcolor\":\"white\",\"landcolor\":\"#E5ECF6\",\"subunitcolor\":\"white\",\"showland\":true,\"showlakes\":true,\"lakecolor\":\"white\"},\"title\":{\"x\":0.05},\"mapbox\":{\"style\":\"light\"}}},\"xaxis\":{\"anchor\":\"y\",\"domain\":[0.0,1.0],\"title\":{\"text\":\"Partner\"}},\"yaxis\":{\"anchor\":\"x\",\"domain\":[0.0,1.0],\"title\":{\"text\":\"Filings\"},\"range\":[0,10000]},\"legend\":{\"tracegroupgap\":0},\"title\":{\"text\":\"Partner wise filing\",\"font\":{\"size\":18,\"family\":\"Arial\"},\"x\":0.5,\"xanchor\":\"center\"},\"barmode\":\"relative\",\"font\":{\"family\":\"Arial\",\"size\":12}},                        {\"responsive\": true}                    ).then(function(){\n",
       "                            \n",
       "var gd = document.getElementById('44a4d05d-3f4f-436a-8a32-212e3da7fe32');\n",
       "var x = new MutationObserver(function (mutations, observer) {{\n",
       "        var display = window.getComputedStyle(gd).display;\n",
       "        if (!display || display === 'none') {{\n",
       "            console.log([gd, 'removed!']);\n",
       "            Plotly.purge(gd);\n",
       "            observer.disconnect();\n",
       "        }}\n",
       "}});\n",
       "\n",
       "// Listen for the removal of the full notebook cells\n",
       "var notebookContainer = gd.closest('#notebook-container');\n",
       "if (notebookContainer) {{\n",
       "    x.observe(notebookContainer, {childList: true});\n",
       "}}\n",
       "\n",
       "// Listen for the clearing of the current output cell\n",
       "var outputEl = gd.closest('.output');\n",
       "if (outputEl) {{\n",
       "    x.observe(outputEl, {childList: true});\n",
       "}}\n",
       "\n",
       "                        })                };                });            </script>        </div>"
      ]
     },
     "metadata": {},
     "output_type": "display_data"
    }
   ],
   "source": [
    "fig = px.bar(\n",
    "    partner_wise_filing_count,\n",
    "    x = 'sp_name',\n",
    "    y = 'filing_count',\n",
    "    title= 'partner wise filing',  \n",
    "    text_auto = True ,\n",
    "    color_continuous_scale='blues'\n",
    "    )\n",
    "fig.update_traces(\n",
    "    textposition=\"outside\",\n",
    "    marker_line_color = 'black',\n",
    "    marker_line_width=1.5\n",
    ") \n",
    "\n",
    "fig.update_layout(\n",
    "    yaxis=dict(range=[0, 10000]),\n",
    "    title = {\n",
    "        'text' : 'Partner wise filing',\n",
    "        'font_size' : 18,\n",
    "        'font_family' : 'Arial',\n",
    "        'x' : 0.5,\n",
    "        'xanchor' : 'center'\n",
    "    },\n",
    "    xaxis_title = 'Partner',\n",
    "    yaxis_title = 'Filings',\n",
    "    font = dict(\n",
    "        family = 'Arial',\n",
    "        size = 12\n",
    "    )\n",
    "\n",
    ")\n",
    "fig.show()\n"
   ]
  },
  {
   "cell_type": "code",
   "execution_count": null,
   "id": "a3980745-2e8c-4a4b-8131-2d148863ae92",
   "metadata": {},
   "outputs": [],
   "source": []
  },
  {
   "cell_type": "code",
   "execution_count": 35,
   "id": "d3e50904-12aa-4f60-ab03-94b02ad75835",
   "metadata": {},
   "outputs": [
    {
     "data": {
      "text/plain": [
       "emitra_id                        int64\n",
       "itr_id                           int64\n",
       "sp_name                         object\n",
       "sso_id                           int64\n",
       "Payment_datetime                object\n",
       "Payment_date                    object\n",
       "Merchant_first_filing_date      object\n",
       "merchant_last_filing_date       object\n",
       "merchant_created_on             object\n",
       "Gross_revenue                  float64\n",
       "Net_Revenue                    float64\n",
       "Net_Revenue_with_gst           float64\n",
       "assessment_year                  int64\n",
       "form_name                       object\n",
       "itr_status                      object\n",
       "filing_Status                   object\n",
       "E_verification_status           object\n",
       "Filing_type                     object\n",
       "Filing_mode                     object\n",
       "Age_bucket                      object\n",
       "gender                          object\n",
       "Latest_Business_income_band     object\n",
       "Latest_Salaried_income_band     object\n",
       "Latest_os_income_band           object\n",
       "Latest_hp_income_band           object\n",
       "Latest_capital_gain_band        object\n",
       "Gross_total_income_band         object\n",
       "total_income_band               object\n",
       "tds_refund_band                 object\n",
       "Tax_payable_slabs               object\n",
       "tax_deducted_band               object\n",
       "state                           object\n",
       "Tier                            object\n",
       "zone                            object\n",
       "contest_status                  object\n",
       "Ops_category1_status            object\n",
       "Ops_category2_status            object\n",
       "Ops_category3_status            object\n",
       "team_reamrks_count             float64\n",
       "User_type                       object\n",
       "Vle_type                        object\n",
       "Income_band                     object\n",
       "FY_Year                         object\n",
       "dtype: object"
      ]
     },
     "execution_count": 35,
     "metadata": {},
     "output_type": "execute_result"
    }
   ],
   "source": [
    "df.dtypes"
   ]
  },
  {
   "cell_type": "code",
   "execution_count": 39,
   "id": "52f56206-49bb-4dae-b322-f78257e7c9b0",
   "metadata": {},
   "outputs": [
    {
     "data": {
      "text/plain": [
       "['Payment_date',\n",
       " 'Merchant_first_filing_date',\n",
       " 'merchant_last_filing_date',\n",
       " 'merchant_created_on']"
      ]
     },
     "execution_count": 39,
     "metadata": {},
     "output_type": "execute_result"
    }
   ],
   "source": [
    "date_column_list = [\n",
    "    \"Payment_date\",\n",
    "    \"Merchant_first_filing_date\",\n",
    "    \"merchant_last_filing_date\",\n",
    "    \"merchant_created_on\",\n",
    "]\n",
    "date_column_list"
   ]
  },
  {
   "cell_type": "code",
   "execution_count": 40,
   "id": "ba70d9c1-906f-495f-b401-6aa18b8194e9",
   "metadata": {},
   "outputs": [],
   "source": [
    "date_column_list = [\n",
    "    \"Payment_date\",\n",
    "    \"Merchant_first_filing_date\",\n",
    "    \"Merchant_last_filing_date\",\n",
    "    \"merchant_created_on\",\n",
    "]\n",
    "\n",
    "df_columns = df.columns  # Store dataframe columns\n"
   ]
  },
  {
   "cell_type": "code",
   "execution_count": 41,
   "id": "6985a449-db4d-4292-93da-42c0518b4744",
   "metadata": {},
   "outputs": [
    {
     "data": {
      "text/plain": [
       "Index(['emitra_id', 'itr_id', 'sp_name', 'sso_id', 'Payment_datetime',\n",
       "       'Payment_date', 'Merchant_first_filing_date',\n",
       "       'merchant_last_filing_date', 'merchant_created_on', 'Gross_revenue',\n",
       "       'Net_Revenue', 'Net_Revenue_with_gst', 'assessment_year', 'form_name',\n",
       "       'itr_status', 'filing_Status', 'E_verification_status', 'Filing_type',\n",
       "       'Filing_mode', 'Age_bucket', 'gender', 'Latest_Business_income_band',\n",
       "       'Latest_Salaried_income_band', 'Latest_os_income_band',\n",
       "       'Latest_hp_income_band', 'Latest_capital_gain_band',\n",
       "       'Gross_total_income_band', 'total_income_band', 'tds_refund_band',\n",
       "       'Tax_payable_slabs', 'tax_deducted_band', 'state', 'Tier', 'zone',\n",
       "       'contest_status', 'Ops_category1_status', 'Ops_category2_status',\n",
       "       'Ops_category3_status', 'team_reamrks_count', 'User_type', 'Vle_type',\n",
       "       'Income_band', 'FY_Year'],\n",
       "      dtype='object')"
      ]
     },
     "execution_count": 41,
     "metadata": {},
     "output_type": "execute_result"
    }
   ],
   "source": [
    "df_columns"
   ]
  },
  {
   "cell_type": "code",
   "execution_count": 53,
   "id": "4950e3fe-9e71-43b7-a17b-70f7799cd3ec",
   "metadata": {},
   "outputs": [
    {
     "data": {
      "text/plain": [
       "['Payment_date', 'Merchant_first_filing_date', 'merchant_created_on']"
      ]
     },
     "execution_count": 53,
     "metadata": {},
     "output_type": "execute_result"
    }
   ],
   "source": [
    "date_column_list = [\n",
    "    \"Payment_date\",\n",
    "    \"Merchant_first_filing_date\",\n",
    "    \"merchant_created_on\",\n",
    "]\n",
    "date_column_list\n"
   ]
  },
  {
   "cell_type": "code",
   "execution_count": 59,
   "id": "f2f497c8-e57b-4103-8c8a-7ceff106187d",
   "metadata": {},
   "outputs": [],
   "source": [
    "df.loc[:, date_column_list] = df.loc[:, date_column_list].apply(pd.to_datetime)"
   ]
  },
  {
   "cell_type": "code",
   "execution_count": 63,
   "id": "ebec01e2-28ba-42c7-b859-af99c834e0cd",
   "metadata": {},
   "outputs": [
    {
     "data": {
      "text/plain": [
       "list[emitra_id                               int64\n",
       "itr_id                                  int64\n",
       "sp_name                                object\n",
       "sso_id                                  int64\n",
       "Payment_datetime                       object\n",
       "Payment_date                   datetime64[ns]\n",
       "Merchant_first_filing_date     datetime64[ns]\n",
       "merchant_last_filing_date              object\n",
       "merchant_created_on            datetime64[ns]\n",
       "Gross_revenue                         float64\n",
       "Net_Revenue                           float64\n",
       "Net_Revenue_with_gst                  float64\n",
       "assessment_year                         int64\n",
       "form_name                              object\n",
       "itr_status                             object\n",
       "filing_Status                          object\n",
       "E_verification_status                  object\n",
       "Filing_type                            object\n",
       "Filing_mode                            object\n",
       "Age_bucket                             object\n",
       "gender                                 object\n",
       "Latest_Business_income_band            object\n",
       "Latest_Salaried_income_band            object\n",
       "Latest_os_income_band                  object\n",
       "Latest_hp_income_band                  object\n",
       "Latest_capital_gain_band               object\n",
       "Gross_total_income_band                object\n",
       "total_income_band                      object\n",
       "tds_refund_band                        object\n",
       "Tax_payable_slabs                      object\n",
       "tax_deducted_band                      object\n",
       "state                                  object\n",
       "Tier                                   object\n",
       "zone                                   object\n",
       "contest_status                         object\n",
       "Ops_category1_status                   object\n",
       "Ops_category2_status                   object\n",
       "Ops_category3_status                   object\n",
       "team_reamrks_count                    float64\n",
       "User_type                              object\n",
       "Vle_type                               object\n",
       "Income_band                            object\n",
       "FY_Year                                object\n",
       "dtype: object]"
      ]
     },
     "execution_count": 63,
     "metadata": {},
     "output_type": "execute_result"
    }
   ],
   "source": [
    "list[df.dtypes]"
   ]
  },
  {
   "cell_type": "code",
   "execution_count": 64,
   "id": "fcde46fc-32d5-41ab-a74f-596a6d222be0",
   "metadata": {},
   "outputs": [
    {
     "data": {
      "text/plain": [
       "0      2024-06-14\n",
       "1      2024-05-23\n",
       "2      2024-07-12\n",
       "3      2024-07-02\n",
       "4      2024-07-22\n",
       "          ...    \n",
       "7894   2024-04-23\n",
       "7895   2025-01-06\n",
       "7896   2025-01-26\n",
       "7897   2024-07-28\n",
       "7898   2024-09-01\n",
       "Name: Payment_date, Length: 7899, dtype: datetime64[ns]"
      ]
     },
     "execution_count": 64,
     "metadata": {},
     "output_type": "execute_result"
    }
   ],
   "source": [
    "df['Payment_date']"
   ]
  },
  {
   "cell_type": "code",
   "execution_count": null,
   "id": "866f9c14-e0d6-4579-b402-172073c6d06e",
   "metadata": {},
   "outputs": [],
   "source": []
  }
 ],
 "metadata": {
  "kernelspec": {
   "display_name": "Python 3 (ipykernel)",
   "language": "python",
   "name": "python3"
  },
  "language_info": {
   "codemirror_mode": {
    "name": "ipython",
    "version": 3
   },
   "file_extension": ".py",
   "mimetype": "text/x-python",
   "name": "python",
   "nbconvert_exporter": "python",
   "pygments_lexer": "ipython3",
   "version": "3.11.7"
  },
  "widgets": {
   "application/vnd.jupyter.widget-state+json": {
    "state": {},
    "version_major": 2,
    "version_minor": 0
   }
  }
 },
 "nbformat": 4,
 "nbformat_minor": 5
}
